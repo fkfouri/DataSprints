{
 "cells": [
  {
   "cell_type": "markdown",
   "metadata": {},
   "source": [
    "# Sequencia para processamento em Cluster AWS\n",
    "\n",
    "Todo o código foi baseado na biblioteca boto3. Para executar é necessário ter na máquina configurada as credencias da AWS conforme descrito no link https://boto3.amazonaws.com/v1/documentation/api/latest/guide/quickstart.html. "
   ]
  },
  {
   "cell_type": "code",
   "execution_count": 1,
   "metadata": {},
   "outputs": [],
   "source": [
    "try:\n",
    "    !pip install boto3==\"1.13.1\" --quiet\n",
    "except:\n",
    "    print(\"Running throw py file.\")"
   ]
  },
  {
   "cell_type": "code",
   "execution_count": 2,
   "metadata": {},
   "outputs": [],
   "source": [
    "import boto3\n",
    "import os\n",
    "import json"
   ]
  },
  {
   "cell_type": "code",
   "execution_count": 3,
   "metadata": {},
   "outputs": [],
   "source": [
    "dirpath = os.getcwd()"
   ]
  },
  {
   "cell_type": "markdown",
   "metadata": {},
   "source": [
    "## Configurando serviços AWS\n",
    "Sequencia de atividads para configuração de ambiente AWS para armazenamento e processamento do modelo PySpark."
   ]
  },
  {
   "cell_type": "markdown",
   "metadata": {},
   "source": [
    "#### Definindo Variáveis usados na configuração de ambiente AWS."
   ]
  },
  {
   "cell_type": "code",
   "execution_count": 4,
   "metadata": {},
   "outputs": [],
   "source": [
    "my_bucket = \"data-sprints-fk\"\n",
    "app_key = \"data-sprints-test-fk\"\n",
    "my_tag = [{'Key': app_key, 'Value': ''}]\n",
    "my_resource_group = \"rg-data-sprints-test-fk\"\n",
    "my_emr_cluster = \"spark-data-sprints-test-fk\"\n",
    "files_to_upload = ['desafio.py','lib/ny_map.png', 'Analise.html']"
   ]
  },
  {
   "cell_type": "markdown",
   "metadata": {},
   "source": [
    "### Criação de um Bucket S3 \"data-sprints-fk\" para armazenamento do modelo PySpark."
   ]
  },
  {
   "cell_type": "code",
   "execution_count": 5,
   "metadata": {},
   "outputs": [
    {
     "data": {
      "text/plain": [
       "{'ResponseMetadata': {'RequestId': '64F4FDBA9F2A36AE',\n",
       "  'HostId': '44H/2ZZ7VQpg8eqtUBXmvDz/Os0TanbE8o86a7cP0rE6dB1Fl4gbnihGZ0qJcfk9Nb1UR1LSh4o=',\n",
       "  'HTTPStatusCode': 200,\n",
       "  'HTTPHeaders': {'x-amz-id-2': '44H/2ZZ7VQpg8eqtUBXmvDz/Os0TanbE8o86a7cP0rE6dB1Fl4gbnihGZ0qJcfk9Nb1UR1LSh4o=',\n",
       "   'x-amz-request-id': '64F4FDBA9F2A36AE',\n",
       "   'date': 'Mon, 22 Jun 2020 19:32:11 GMT',\n",
       "   'location': '/data-sprints-fk',\n",
       "   'content-length': '0',\n",
       "   'server': 'AmazonS3'},\n",
       "  'RetryAttempts': 0},\n",
       " 'Location': '/data-sprints-fk'}"
      ]
     },
     "execution_count": 5,
     "metadata": {},
     "output_type": "execute_result"
    }
   ],
   "source": [
    "s3 = boto3.resource('s3')\n",
    "s3_client = boto3.client('s3')\n",
    "s3_client.create_bucket(Bucket=my_bucket)"
   ]
  },
  {
   "cell_type": "markdown",
   "metadata": {},
   "source": [
    "Definição de uma TAG para o Bucket criado"
   ]
  },
  {
   "cell_type": "code",
   "execution_count": 6,
   "metadata": {},
   "outputs": [
    {
     "data": {
      "text/plain": [
       "{'ResponseMetadata': {'RequestId': '9878C08B2EE986EF',\n",
       "  'HostId': 'a14Q0w1nBGqVYvrbgjPMaJJgPq0Y8wyFDCZhSv90VVAkU/SApetlcUep5BgIFr/P5O8CnFJW2+k=',\n",
       "  'HTTPStatusCode': 204,\n",
       "  'HTTPHeaders': {'x-amz-id-2': 'a14Q0w1nBGqVYvrbgjPMaJJgPq0Y8wyFDCZhSv90VVAkU/SApetlcUep5BgIFr/P5O8CnFJW2+k=',\n",
       "   'x-amz-request-id': '9878C08B2EE986EF',\n",
       "   'date': 'Mon, 22 Jun 2020 19:32:12 GMT',\n",
       "   'server': 'AmazonS3'},\n",
       "  'RetryAttempts': 0}}"
      ]
     },
     "execution_count": 6,
     "metadata": {},
     "output_type": "execute_result"
    }
   ],
   "source": [
    "s3_client.put_bucket_tagging(Bucket=my_bucket, Tagging= {'TagSet': my_tag} )"
   ]
  },
  {
   "cell_type": "markdown",
   "metadata": {},
   "source": [
    "Upload do modelo para o bucket na pasta model."
   ]
  },
  {
   "cell_type": "code",
   "execution_count": 7,
   "metadata": {},
   "outputs": [
    {
     "name": "stdout",
     "output_type": "stream",
     "text": [
      "It was uploaded the file 'desafio.py' .\n",
      "It was uploaded the file 'lib/ny_map.png' .\n",
      "It was uploaded the file 'Analise.html' .\n"
     ]
    }
   ],
   "source": [
    "for file in files_to_upload: \n",
    "    file_name = dirpath + \"/\" + file\n",
    "    try:\n",
    "        if '.html' in file_name:\n",
    "            response = s3_client.upload_file(file_name, my_bucket, file)\n",
    "            \n",
    "            \n",
    "            #Modificando o ContentType\n",
    "            object = s3.Object(my_bucket, file)\n",
    "            object.copy_from(CopySource={'Bucket': my_bucket, 'Key': file},\n",
    "                             MetadataDirective=\"REPLACE\",\n",
    "                             ContentType=\"text/html\",\n",
    "                             ACL = 'public-read')\n",
    "\n",
    "        else:\n",
    "            response = s3_client.upload_file(file_name, my_bucket, \"model/\" + file, ExtraArgs={'ACL':'public-read', })\n",
    "            \n",
    "        print(\"It was uploaded the file\", \"'\" + file + \"'\", \".\")\n",
    "    except ClientError as e:\n",
    "        logging.error(e)"
   ]
  },
  {
   "cell_type": "markdown",
   "metadata": {},
   "source": [
    "Abrir em um Browser o site: https://data-sprints-fk.s3.amazonaws.com/Analise.html"
   ]
  },
  {
   "cell_type": "code",
   "execution_count": null,
   "metadata": {},
   "outputs": [],
   "source": []
  },
  {
   "cell_type": "markdown",
   "metadata": {},
   "source": [
    "### Configuração de um Resource Group"
   ]
  },
  {
   "cell_type": "code",
   "execution_count": 8,
   "metadata": {},
   "outputs": [
    {
     "name": "stdout",
     "output_type": "stream",
     "text": [
      "Resource Group was created.\n"
     ]
    }
   ],
   "source": [
    "RG_client = boto3.client('resource-groups')\n",
    "\n",
    "#AWS::AllSupported\n",
    "#AWS::S3::Bucket\n",
    "query = {\n",
    "    \"ResourceTypeFilters\": [\"AWS::AllSupported\"],\n",
    "    \"TagFilters\":  [{\n",
    "        \"Key\": my_tag[0].get(\"Key\"),\n",
    "        \"Values\": [\"\"]\n",
    "    }] \n",
    "}\n",
    "resource_query = {\n",
    "    'Type': 'TAG_FILTERS_1_0',\n",
    "    'Query': json.dumps(query)\n",
    "}\n",
    "\n",
    "try:\n",
    "    resp = RG_client.create_group(Name=my_resource_group,ResourceQuery=resource_query)\n",
    "    print(\"Resource Group was created.\")\n",
    "except Exception as e:\n",
    "    print(e)\n",
    "\n",
    "#print(query)\n",
    "#print(my_tag)"
   ]
  },
  {
   "cell_type": "markdown",
   "metadata": {},
   "source": [
    "### Criação de um  EMR Cluster"
   ]
  },
  {
   "cell_type": "code",
   "execution_count": 10,
   "metadata": {},
   "outputs": [],
   "source": [
    "emr_client = boto3.client('emr') #region_name='us-east-1'\n",
    "\n",
    "cluster_id = emr_client.run_job_flow(Name=my_emr_cluster, \n",
    "    ReleaseLabel='emr-5.30.1',\n",
    "    LogUri='s3://' + my_bucket + '/log/',\n",
    "    Applications=[\n",
    "        {\n",
    "            'Name': 'Spark'\n",
    "        },\n",
    "    ],\n",
    "    Instances={\n",
    "        'InstanceGroups': [\n",
    "            {\n",
    "                'Name': \"Master\",\n",
    "                'Market': 'ON_DEMAND',\n",
    "                'InstanceRole': 'MASTER',\n",
    "                'InstanceType': 'm4.large',\n",
    "                'InstanceCount': 1,\n",
    "            },\n",
    "            {\n",
    "                'Name': \"Slave\",\n",
    "                'Market': 'ON_DEMAND',\n",
    "                'InstanceRole': 'CORE',\n",
    "                'InstanceType': 'm4.large',\n",
    "                'InstanceCount': 2,\n",
    "            }\n",
    "        ],\n",
    "        'KeepJobFlowAliveWhenNoSteps': True,\n",
    "        'TerminationProtected': True,\n",
    "    },\n",
    "    Steps=[\n",
    "        {\n",
    "            'Name': 'Spark application',   \n",
    "                    'ActionOnFailure': 'CONTINUE',\n",
    "                    'HadoopJarStep': {\n",
    "                        'Jar': 'command-runner.jar',\n",
    "                        'Args': [\"spark-submit\",\"--deploy-mode\",\"cluster\",\"s3://\" + my_bucket + \"/model/\" + files_to_upload[0]]\n",
    "                    }\n",
    "        }        \n",
    "    ],                                    \n",
    "    VisibleToAllUsers=True,\n",
    "    JobFlowRole='EMR_EC2_DefaultRole',\n",
    "    ServiceRole='EMR_DefaultRole',\n",
    "    Tags=my_tag\n",
    ")"
   ]
  },
  {
   "cell_type": "code",
   "execution_count": 11,
   "metadata": {},
   "outputs": [
    {
     "data": {
      "text/plain": [
       "{'Id': 'j-VDFGKFNMETKB',\n",
       " 'Name': 'spark-data-sprints-test-fk',\n",
       " 'Status': {'State': 'STARTING',\n",
       "  'StateChangeReason': {},\n",
       "  'Timeline': {'CreationDateTime': datetime.datetime(2020, 6, 22, 16, 33, 36, 329000, tzinfo=tzlocal())}},\n",
       " 'NormalizedInstanceHours': 0,\n",
       " 'ClusterArn': 'arn:aws:elasticmapreduce:us-east-1:032594213725:cluster/j-VDFGKFNMETKB'}"
      ]
     },
     "execution_count": 11,
     "metadata": {},
     "output_type": "execute_result"
    }
   ],
   "source": [
    "from datetime import datetime, date\n",
    "\n",
    "clusters = emr_client.list_clusters(\n",
    "        CreatedAfter = datetime.today()\n",
    ")\n",
    "my_cluster = [i for i in clusters['Clusters'] if i['Name'] == my_emr_cluster][0]\n",
    "my_cluster"
   ]
  },
  {
   "cell_type": "code",
   "execution_count": 12,
   "metadata": {},
   "outputs": [
    {
     "name": "stdout",
     "output_type": "stream",
     "text": [
      "The current state is STARTING - 2020-06-22 16:34:35.776465\n",
      "The current state is STARTING - 2020-06-22 16:34:35.976943 0\n",
      "The current state is STARTING - 2020-06-22 16:35:36.737582 1\n",
      "The current state is STARTING - 2020-06-22 16:36:37.858783 2\n",
      "The current state is STARTING - 2020-06-22 16:37:38.590846 3\n",
      "The current state is STARTING - 2020-06-22 16:38:39.337433 4\n",
      "The current state is STARTING - 2020-06-22 16:39:40.126925 5\n",
      "The current state is RUNNING - 2020-06-22 16:40:40.941824 6\n",
      "The current state is WAITING - 2020-06-22 16:41:41.738353 7\n",
      "The current state is WAITING - 2020-06-22 16:42:42.402716 8\n",
      "The current state is WAITING - 2020-06-22 16:43:43.188375 9\n",
      "The current state is WAITING - 2020-06-22 16:44:43.894691 10\n",
      "The current state is WAITING - 2020-06-22 16:45:44.664334 11\n",
      "The current state is WAITING - 2020-06-22 16:46:45.389088 12\n",
      "The current state is WAITING - 2020-06-22 16:47:46.230103 13\n",
      "The current state is WAITING - 2020-06-22 16:48:46.992569 14\n",
      "The current state is WAITING - 2020-06-22 16:49:47.855499 15\n",
      "The current state is RUNNING - 2020-06-22 16:50:48.689058 16\n",
      "The current state is WAITING - 2020-06-22 16:51:49.540438 17\n",
      "The current state is WAITING - 2020-06-22 16:52:50.239453 18\n",
      "The current state is WAITING - 2020-06-22 16:53:51.035951 19\n",
      "The current state is WAITING - 2020-06-22 16:54:51.836198 20\n",
      "The current state is WAITING - 2020-06-22 16:55:52.635502 21\n",
      "The current state is RUNNING - 2020-06-22 16:56:53.398192 22\n",
      "The current state is WAITING - 2020-06-22 16:57:54.199619 23\n",
      "The current state is WAITING - 2020-06-22 16:58:54.990345 24\n",
      "The current state is WAITING - 2020-06-22 16:59:55.725603 25\n",
      "The current state is WAITING - 2020-06-22 17:00:56.443943 26\n",
      "The current state is WAITING - 2020-06-22 17:01:57.172086 27\n",
      "The current state is TERMINATING - 2020-06-22 17:02:57.932803 28\n",
      "The current state is TERMINATED - 2020-06-22 17:03:58.676447 29\n"
     ]
    }
   ],
   "source": [
    "import time\n",
    "\n",
    "response = emr_client.describe_cluster(ClusterId = my_cluster['Id'])\n",
    "print('The current state is', response['Cluster']['Status']['State'], '-', datetime.today())\n",
    "i = 0\n",
    "\n",
    "while response['Cluster']['Status']['State'] != 'TERMINATED' and i < 30:\n",
    "    response = emr_client.describe_cluster(ClusterId = my_cluster['Id'])\n",
    "    print('The current state is', response['Cluster']['Status']['State'], '-', datetime.today(), i)\n",
    "    i += 1\n",
    "    time.sleep(60)"
   ]
  },
  {
   "cell_type": "markdown",
   "metadata": {},
   "source": [
    "## Desativação/Remoção das configurações da AWS"
   ]
  },
  {
   "cell_type": "markdown",
   "metadata": {},
   "source": [
    "Remoção do Resource Group"
   ]
  },
  {
   "cell_type": "code",
   "execution_count": 13,
   "metadata": {},
   "outputs": [
    {
     "data": {
      "text/plain": [
       "{'ResponseMetadata': {'RequestId': '6d1ed8ba-9cfc-4690-9548-088a4676e8c4',\n",
       "  'HTTPStatusCode': 200,\n",
       "  'HTTPHeaders': {'date': 'Mon, 22 Jun 2020 20:04:58 GMT',\n",
       "   'content-type': 'application/json',\n",
       "   'content-length': '159',\n",
       "   'connection': 'keep-alive',\n",
       "   'x-amzn-requestid': '6d1ed8ba-9cfc-4690-9548-088a4676e8c4',\n",
       "   'x-amz-apigw-id': 'Oi9ErGyEoAMFqEw=',\n",
       "   'x-amzn-trace-id': 'Root=1-5ef10eea-4a78b0b2168977cfed43f86c;Sampled=0'},\n",
       "  'RetryAttempts': 0},\n",
       " 'Group': {'GroupArn': 'arn:aws:resource-groups:us-east-1:032594213725:group/rg-data-sprints-test-fk',\n",
       "  'Name': 'rg-data-sprints-test-fk'}}"
      ]
     },
     "execution_count": 13,
     "metadata": {},
     "output_type": "execute_result"
    }
   ],
   "source": [
    "RG_client.delete_group(GroupName=my_resource_group)"
   ]
  },
  {
   "cell_type": "markdown",
   "metadata": {},
   "source": [
    "Remoção de todos os arquivos do Bucket"
   ]
  },
  {
   "cell_type": "code",
   "execution_count": 14,
   "metadata": {},
   "outputs": [
    {
     "data": {
      "text/plain": [
       "[{'ResponseMetadata': {'RequestId': '01B882D100C6825D',\n",
       "   'HostId': 'g2HyG9tsMzaWrv8NhRzR7hgQ6VVNQq2N7kT5VYO3N0yjyG5LJbhNiMU/rnCnM3+gB4A6MmVYHkI=',\n",
       "   'HTTPStatusCode': 200,\n",
       "   'HTTPHeaders': {'x-amz-id-2': 'g2HyG9tsMzaWrv8NhRzR7hgQ6VVNQq2N7kT5VYO3N0yjyG5LJbhNiMU/rnCnM3+gB4A6MmVYHkI=',\n",
       "    'x-amz-request-id': '01B882D100C6825D',\n",
       "    'date': 'Mon, 22 Jun 2020 20:05:01 GMT',\n",
       "    'connection': 'close',\n",
       "    'content-type': 'application/xml',\n",
       "    'transfer-encoding': 'chunked',\n",
       "    'server': 'AmazonS3'},\n",
       "   'RetryAttempts': 0},\n",
       "  'Deleted': [{'Key': 'log/j-VDFGKFNMETKB/node/i-03f0dd0fb6fc5777a/provision-node/reports/0/7fe92b5c-7ee0-44e9-bda4-ed05a1c3970c/ip-172-31-63-214.ec2.internal/202006221938.yaml.gz'},\n",
       "   {'Key': 'log/j-VDFGKFNMETKB/containers/application_1592854723680_0003/container_1592854723680_0003_02_000001/stderr.gz'},\n",
       "   {'Key': 'log/j-VDFGKFNMETKB/node/i-095dff7056a8b0bd0/applications/hadoop-yarn/yarn-yarn-proxyserver-ip-172-31-62-165.out.gz'},\n",
       "   {'Key': 'log/j-VDFGKFNMETKB/node/i-095dff7056a8b0bd0/applications/hadoop-kms/kms-catalina.2020-06-22.log.gz'},\n",
       "   {'Key': 'log/j-VDFGKFNMETKB/node/i-095dff7056a8b0bd0/applications/hadoop-mapreduce/mapred-mapred-historyserver-ip-172-31-62-165.log.2020-06-22-19.gz'},\n",
       "   {'Key': 'log/j-VDFGKFNMETKB/node/i-095dff7056a8b0bd0/provision-node/apps-phase/0/fe4da2b9-4a0c-449e-8625-1e55c68dbb32/stderr.gz'},\n",
       "   {'Key': 'log/j-VDFGKFNMETKB/containers/application_1592854723680_0001/container_1592854723680_0001_01_000001/stderr.gz'},\n",
       "   {'Key': 'log/j-VDFGKFNMETKB/node/i-067413330dc9c8fc0/setup-devices/setup_tmp_dir.log.gz'},\n",
       "   {'Key': 'log/j-VDFGKFNMETKB/containers/application_1592854723680_0001/container_1592854723680_0001_01_000001/stdout.gz'},\n",
       "   {'Key': 'log/j-VDFGKFNMETKB/node/i-067413330dc9c8fc0/provision-node/reports/0/65a958d3-d800-433a-b0e5-c64dc937fd68/ip-172-31-61-16.ec2.internal/202006221937.puppetreport.json.gz'},\n",
       "   {'Key': 'log/j-VDFGKFNMETKB/node/i-095dff7056a8b0bd0/applications/hadoop-mapreduce/mapred-mapred-historyserver-ip-172-31-62-165.out.gz'},\n",
       "   {'Key': 'log/j-VDFGKFNMETKB/node/i-095dff7056a8b0bd0/bootstrap-actions/master.log.gz'},\n",
       "   {'Key': 'log/j-VDFGKFNMETKB/node/i-03f0dd0fb6fc5777a/provision-node/apps-phase/0/7fe92b5c-7ee0-44e9-bda4-ed05a1c3970c/puppet.log.gz'},\n",
       "   {'Key': 'log/j-VDFGKFNMETKB/node/i-095dff7056a8b0bd0/setup-devices/setup_tmp_dir.log.gz'},\n",
       "   {'Key': 'log/j-VDFGKFNMETKB/node/i-095dff7056a8b0bd0/provision-node/fe4da2b9-4a0c-449e-8625-1e55c68dbb32/stderr.gz'},\n",
       "   {'Key': 'log/j-VDFGKFNMETKB/containers/application_1592854723680_0001/container_1592854723680_0001_02_000001/stdout.gz'},\n",
       "   {'Key': 'log/j-VDFGKFNMETKB/node/i-067413330dc9c8fc0/provision-node/apps-phase/0/65a958d3-d800-433a-b0e5-c64dc937fd68/stderr.gz'},\n",
       "   {'Key': 'log/j-VDFGKFNMETKB/node/i-095dff7056a8b0bd0/applications/hadoop-yarn/yarn-yarn-timelineserver-ip-172-31-62-165.log.2020-06-22-19.gz'},\n",
       "   {'Key': 'log/j-VDFGKFNMETKB/containers/application_1592854723680_0002/container_1592854723680_0002_02_000001/stderr.gz'},\n",
       "   {'Key': 'log/j-VDFGKFNMETKB/node/i-095dff7056a8b0bd0/daemons/instance-state/instance-state.log-2020-06-22-19-45.gz'},\n",
       "   {'Key': 'log/j-VDFGKFNMETKB/node/i-067413330dc9c8fc0/daemons/setup-dns.log.gz'},\n",
       "   {'Key': 'log/j-VDFGKFNMETKB/node/i-095dff7056a8b0bd0/provision-node/fe4da2b9-4a0c-449e-8625-1e55c68dbb32/controller.gz'},\n",
       "   {'Key': 'log/j-VDFGKFNMETKB/node/i-03f0dd0fb6fc5777a/setup-devices/DiskEncryptor.log.gz'},\n",
       "   {'Key': 'log/j-VDFGKFNMETKB/node/i-03f0dd0fb6fc5777a/provision-node/reports/0/7fe92b5c-7ee0-44e9-bda4-ed05a1c3970c/ip-172-31-63-214.ec2.internal/202006221938.puppetreport.json.gz'},\n",
       "   {'Key': 'log/j-VDFGKFNMETKB/node/i-067413330dc9c8fc0/provision-node/65a958d3-d800-433a-b0e5-c64dc937fd68/controller.gz'},\n",
       "   {'Key': 'log/j-VDFGKFNMETKB/node/i-095dff7056a8b0bd0/applications/hadoop/steps/s-3DIVGL9TH8Q9O/controller.gz'},\n",
       "   {'Key': 'log/j-VDFGKFNMETKB/node/i-067413330dc9c8fc0/daemons/instance-state/console.log-2020-06-22-19-34.gz'},\n",
       "   {'Key': 'log/j-VDFGKFNMETKB/node/i-03f0dd0fb6fc5777a/setup-devices/setup_emr_metrics.log.gz'},\n",
       "   {'Key': 'log/j-VDFGKFNMETKB/node/i-095dff7056a8b0bd0/provision-node/apps-phase/install.stderr.gz'},\n",
       "   {'Key': 'log/j-VDFGKFNMETKB/node/i-03f0dd0fb6fc5777a/daemons/instance-state/console.log-2020-06-22-19-35.gz'},\n",
       "   {'Key': 'log/j-VDFGKFNMETKB/node/i-067413330dc9c8fc0/setup-devices/setup_var_log_dir.log.gz'},\n",
       "   {'Key': 'log/j-VDFGKFNMETKB/node/i-095dff7056a8b0bd0/applications/livy/livy-livy-server.out.gz'},\n",
       "   {'Key': 'log/j-VDFGKFNMETKB/node/i-03f0dd0fb6fc5777a/applications/hadoop-yarn/yarn-yarn-nodemanager-ip-172-31-63-214.log.gz'},\n",
       "   {'Key': 'log/j-VDFGKFNMETKB/node/i-095dff7056a8b0bd0/applications/hadoop-yarn/yarn-yarn-timelineserver-ip-172-31-62-165.out.gz'},\n",
       "   {'Key': 'log/j-VDFGKFNMETKB/node/i-095dff7056a8b0bd0/provision-node/apps-phase/0/fe4da2b9-4a0c-449e-8625-1e55c68dbb32/puppet.log.gz'},\n",
       "   {'Key': 'log/j-VDFGKFNMETKB/steps/s-3DIVGL9TH8Q9O/stderr.gz'},\n",
       "   {'Key': 'log/j-VDFGKFNMETKB/node/i-03f0dd0fb6fc5777a/daemons/instance-state/console.log-2020-06-22-19-34.gz'},\n",
       "   {'Key': 'log/j-VDFGKFNMETKB/node/i-095dff7056a8b0bd0/applications/hadoop-hdfs/hadoop-hdfs-namenode-ip-172-31-62-165.out.gz'},\n",
       "   {'Key': 'model/lib/ny_map.png'},\n",
       "   {'Key': 'log/j-VDFGKFNMETKB/node/i-067413330dc9c8fc0/applications/hadoop-yarn/yarn-yarn-nodemanager-ip-172-31-61-16.log.gz'},\n",
       "   {'Key': 'log/j-VDFGKFNMETKB/node/i-03f0dd0fb6fc5777a/provision-node/apps-phase/install.stderr.gz'},\n",
       "   {'Key': 'log/j-VDFGKFNMETKB/node/i-03f0dd0fb6fc5777a/setup-devices/setup_var_log_dir.log.gz'},\n",
       "   {'Key': 'log/j-VDFGKFNMETKB/steps/s-YD437M451IGK/stderr.gz'},\n",
       "   {'Key': 'log/j-VDFGKFNMETKB/node/i-03f0dd0fb6fc5777a/setup-devices/setup_var_tmp_dir.log.gz'},\n",
       "   {'Key': 'log/j-VDFGKFNMETKB/node/i-095dff7056a8b0bd0/applications/hadoop-hdfs/nn.format.log.gz'},\n",
       "   {'Key': 'log/j-VDFGKFNMETKB/node/i-067413330dc9c8fc0/applications/hadoop-hdfs/hadoop-hdfs-datanode-ip-172-31-61-16.out.gz'},\n",
       "   {'Key': 'log/j-VDFGKFNMETKB/node/i-03f0dd0fb6fc5777a/daemons/instance-state/instance-state.log-2020-06-22-20-00.gz'},\n",
       "   {'Key': 'log/j-VDFGKFNMETKB/node/i-067413330dc9c8fc0/provision-node/65a958d3-d800-433a-b0e5-c64dc937fd68/stderr.gz'},\n",
       "   {'Key': 'log/j-VDFGKFNMETKB/node/i-095dff7056a8b0bd0/provision-node/reports/0/fe4da2b9-4a0c-449e-8625-1e55c68dbb32/ip-172-31-62-165.ec2.internal/202006221939.yaml.gz'},\n",
       "   {'Key': 'log/j-VDFGKFNMETKB/node/i-067413330dc9c8fc0/daemons/instance-state/instance-state.log-2020-06-22-20-00.gz'},\n",
       "   {'Key': 'log/j-VDFGKFNMETKB/containers/application_1592854723680_0003/container_1592854723680_0003_01_000001/stdout.gz'},\n",
       "   {'Key': 'log/j-VDFGKFNMETKB/node/i-03f0dd0fb6fc5777a/applications/hadoop-hdfs/hadoop-hdfs-datanode-ip-172-31-63-214.out.gz'},\n",
       "   {'Key': 'log/j-VDFGKFNMETKB/node/i-03f0dd0fb6fc5777a/applications/hadoop-hdfs/hadoop-hdfs-datanode-ip-172-31-63-214.log.gz'},\n",
       "   {'Key': 'log/j-VDFGKFNMETKB/node/i-03f0dd0fb6fc5777a/setup-devices/setup_drives.log.gz'},\n",
       "   {'Key': 'log/j-VDFGKFNMETKB/node/i-03f0dd0fb6fc5777a/daemons/setup-dns.log.gz'},\n",
       "   {'Key': 'log/j-VDFGKFNMETKB/containers/application_1592854723680_0003/container_1592854723680_0003_02_000001/stdout.gz'},\n",
       "   {'Key': 'log/j-VDFGKFNMETKB/node/i-095dff7056a8b0bd0/applications/hadoop-httpfs/httpfs-catalina.2020-06-22.log.gz'},\n",
       "   {'Key': 'log/j-VDFGKFNMETKB/node/i-03f0dd0fb6fc5777a/setup-devices/setup_tmp_dir.log.gz'},\n",
       "   {'Key': 'log/j-VDFGKFNMETKB/node/i-095dff7056a8b0bd0/applications/hadoop-httpfs/httpfs.log.gz'},\n",
       "   {'Key': 'log/j-VDFGKFNMETKB/node/i-095dff7056a8b0bd0/applications/hadoop-yarn/yarn-yarn-proxyserver-ip-172-31-62-165.log.gz'},\n",
       "   {'Key': 'log/j-VDFGKFNMETKB/node/i-095dff7056a8b0bd0/daemons/instance-state/console.log-2020-06-22-19-35.gz'},\n",
       "   {'Key': 'log/j-VDFGKFNMETKB/node/i-03f0dd0fb6fc5777a/provision-node/apps-phase/0/7fe92b5c-7ee0-44e9-bda4-ed05a1c3970c/stdout.gz'},\n",
       "   {'Key': 'log/j-VDFGKFNMETKB/node/i-095dff7056a8b0bd0/applications/hadoop-hdfs/hadoop-hdfs-namenode-ip-172-31-62-165.log.gz'},\n",
       "   {'Key': 'log/j-VDFGKFNMETKB/node/i-095dff7056a8b0bd0/applications/spark/spark-history-server.out.gz'},\n",
       "   {'Key': 'log/j-VDFGKFNMETKB/node/i-095dff7056a8b0bd0/daemons/instance-state/instance-state.log-2020-06-22-20-00.gz'},\n",
       "   {'Key': 'log/j-VDFGKFNMETKB/containers/application_1592854723680_0002/container_1592854723680_0002_01_000001/stdout.gz'},\n",
       "   {'Key': 'log/j-VDFGKFNMETKB/node/i-095dff7056a8b0bd0/provision-node/apps-phase/0/fe4da2b9-4a0c-449e-8625-1e55c68dbb32/stdout.gz'},\n",
       "   {'Key': 'log/j-VDFGKFNMETKB/node/i-095dff7056a8b0bd0/setup-devices/setup_var_log_dir.log.gz'},\n",
       "   {'Key': 'log/j-VDFGKFNMETKB/node/i-095dff7056a8b0bd0/setup-devices/setup_var_tmp_dir.log.gz'},\n",
       "   {'Key': 'log/j-VDFGKFNMETKB/node/i-067413330dc9c8fc0/setup-devices/setup_drives.log.gz'},\n",
       "   {'Key': 'log/j-VDFGKFNMETKB/node/i-095dff7056a8b0bd0/applications/hadoop-kms/kms.log.gz'},\n",
       "   {'Key': 'log/j-VDFGKFNMETKB/steps/s-28SBJZJJ5VEU9/controller.gz'},\n",
       "   {'Key': 'log/j-VDFGKFNMETKB/containers/application_1592854723680_0002/container_1592854723680_0002_02_000001/stdout.gz'},\n",
       "   {'Key': 'log/j-VDFGKFNMETKB/node/i-03f0dd0fb6fc5777a/provision-node/apps-phase/0/7fe92b5c-7ee0-44e9-bda4-ed05a1c3970c/stderr.gz'},\n",
       "   {'Key': 'log/j-VDFGKFNMETKB/node/i-095dff7056a8b0bd0/applications/hadoop-yarn/yarn-yarn-timelineserver-ip-172-31-62-165.log.gz'},\n",
       "   {'Key': 'log/j-VDFGKFNMETKB/node/i-067413330dc9c8fc0/setup-devices/DiskEncryptor.log.gz'},\n",
       "   {'Key': 'log/j-VDFGKFNMETKB/node/i-095dff7056a8b0bd0/applications/hadoop-kms/kms-catalina.out.gz'},\n",
       "   {'Key': 'log/j-VDFGKFNMETKB/node/i-095dff7056a8b0bd0/setup-devices/setup_emr_metrics.log.gz'},\n",
       "   {'Key': 'log/j-VDFGKFNMETKB/steps/s-28SBJZJJ5VEU9/stderr.gz'},\n",
       "   {'Key': 'log/j-VDFGKFNMETKB/node/i-095dff7056a8b0bd0/applications/hadoop/steps/s-28SBJZJJ5VEU9/stderr.gz'},\n",
       "   {'Key': 'log/j-VDFGKFNMETKB/containers/application_1592854723680_0003/container_1592854723680_0003_01_000001/stderr.gz'},\n",
       "   {'Key': 'log/j-VDFGKFNMETKB/node/i-067413330dc9c8fc0/provision-node/apps-phase/install.stderr.gz'},\n",
       "   {'Key': 'log/j-VDFGKFNMETKB/node/i-095dff7056a8b0bd0/setup-devices/setup_drives.log.gz'},\n",
       "   {'Key': 'log/j-VDFGKFNMETKB/node/i-067413330dc9c8fc0/setup-devices/setup_var_cache_dir.log.gz'},\n",
       "   {'Key': 'log/j-VDFGKFNMETKB/node/i-067413330dc9c8fc0/applications/hadoop-hdfs/hadoop-hdfs-datanode-ip-172-31-61-16.log.gz'},\n",
       "   {'Key': 'log/j-VDFGKFNMETKB/node/i-067413330dc9c8fc0/applications/hadoop-yarn/yarn-yarn-nodemanager-ip-172-31-61-16.out.gz'},\n",
       "   {'Key': 'log/j-VDFGKFNMETKB/node/i-067413330dc9c8fc0/daemons/instance-state/instance-state.log-2020-06-22-19-45.gz'},\n",
       "   {'Key': 'log/j-VDFGKFNMETKB/node/i-095dff7056a8b0bd0/applications/hadoop-hdfs/hadoop-hdfs-namenode-ip-172-31-62-165.log.2020-06-22-19.gz'},\n",
       "   {'Key': 'log/j-VDFGKFNMETKB/node/i-095dff7056a8b0bd0/daemons/setup-dns.log.gz'},\n",
       "   {'Key': 'log/j-VDFGKFNMETKB/steps/s-YD437M451IGK/controller.gz'},\n",
       "   {'Key': 'model/desafio.py'},\n",
       "   {'Key': 'log/j-VDFGKFNMETKB/node/i-03f0dd0fb6fc5777a/provision-node/7fe92b5c-7ee0-44e9-bda4-ed05a1c3970c/controller.gz'},\n",
       "   {'Key': 'log/j-VDFGKFNMETKB/node/i-095dff7056a8b0bd0/applications/hadoop/steps/s-YD437M451IGK/controller.gz'},\n",
       "   {'Key': 'log/j-VDFGKFNMETKB/node/i-095dff7056a8b0bd0/applications/hadoop/steps/s-3DIVGL9TH8Q9O/stderr.gz'},\n",
       "   {'Key': 'log/j-VDFGKFNMETKB/steps/s-3DIVGL9TH8Q9O/controller.gz'},\n",
       "   {'Key': 'log/j-VDFGKFNMETKB/node/i-03f0dd0fb6fc5777a/provision-node/7fe92b5c-7ee0-44e9-bda4-ed05a1c3970c/stderr.gz'},\n",
       "   {'Key': 'log/j-VDFGKFNMETKB/node/i-095dff7056a8b0bd0/provision-node/reports/0/fe4da2b9-4a0c-449e-8625-1e55c68dbb32/ip-172-31-62-165.ec2.internal/202006221939.puppetreport.json.gz'},\n",
       "   {'Key': 'log/j-VDFGKFNMETKB/node/i-03f0dd0fb6fc5777a/setup-devices/setup_var_cache_dir.log.gz'},\n",
       "   {'Key': 'log/j-VDFGKFNMETKB/node/i-067413330dc9c8fc0/provision-node/apps-phase/0/65a958d3-d800-433a-b0e5-c64dc937fd68/stdout.gz'},\n",
       "   {'Key': 'log/j-VDFGKFNMETKB/containers/application_1592854723680_0001/container_1592854723680_0001_02_000001/stderr.gz'},\n",
       "   {'Key': 'log/j-VDFGKFNMETKB/node/i-095dff7056a8b0bd0/setup-devices/setup_var_cache_dir.log.gz'},\n",
       "   {'Key': 'log/j-VDFGKFNMETKB/node/i-095dff7056a8b0bd0/applications/hadoop-mapreduce/mapred-mapred-historyserver-ip-172-31-62-165.log.gz'},\n",
       "   {'Key': 'log/j-VDFGKFNMETKB/node/i-03f0dd0fb6fc5777a/applications/hadoop-yarn/yarn-yarn-nodemanager-ip-172-31-63-214.out.gz'},\n",
       "   {'Key': 'log/j-VDFGKFNMETKB/node/i-067413330dc9c8fc0/provision-node/reports/0/65a958d3-d800-433a-b0e5-c64dc937fd68/ip-172-31-61-16.ec2.internal/202006221937.yaml.gz'},\n",
       "   {'Key': 'log/j-VDFGKFNMETKB/node/i-095dff7056a8b0bd0/applications/hadoop-yarn/yarn-yarn-resourcemanager-ip-172-31-62-165.log.gz'},\n",
       "   {'Key': 'log/j-VDFGKFNMETKB/node/i-095dff7056a8b0bd0/applications/hadoop-yarn/yarn-yarn-resourcemanager-ip-172-31-62-165.log.2020-06-22-19.gz'},\n",
       "   {'Key': 'log/j-VDFGKFNMETKB/node/i-095dff7056a8b0bd0/applications/hadoop/steps/s-28SBJZJJ5VEU9/controller.gz'},\n",
       "   {'Key': 'log/j-VDFGKFNMETKB/containers/application_1592854723680_0002/container_1592854723680_0002_01_000001/stderr.gz'},\n",
       "   {'Key': 'log/j-VDFGKFNMETKB/node/i-067413330dc9c8fc0/daemons/instance-state/console.log-2020-06-22-19-35.gz'},\n",
       "   {'Key': 'log/j-VDFGKFNMETKB/node/i-067413330dc9c8fc0/setup-devices/setup_var_tmp_dir.log.gz'},\n",
       "   {'Key': 'log/j-VDFGKFNMETKB/node/i-095dff7056a8b0bd0/setup-devices/DiskEncryptor.log.gz'},\n",
       "   {'Key': 'log/j-VDFGKFNMETKB/node/i-03f0dd0fb6fc5777a/daemons/instance-state/instance-state.log-2020-06-22-19-45.gz'},\n",
       "   {'Key': 'log/j-VDFGKFNMETKB/node/i-095dff7056a8b0bd0/applications/hadoop-httpfs/httpfs-catalina.out.gz'},\n",
       "   {'Key': 'log/j-VDFGKFNMETKB/node/i-095dff7056a8b0bd0/applications/hadoop-yarn/yarn-yarn-resourcemanager-ip-172-31-62-165.out.gz'},\n",
       "   {'Key': 'log/j-VDFGKFNMETKB/node/i-03f0dd0fb6fc5777a/setup-devices/setup_var_lib_dir.log.gz'},\n",
       "   {'Key': 'log/j-VDFGKFNMETKB/node/i-095dff7056a8b0bd0/applications/hadoop/steps/s-YD437M451IGK/stderr.gz'},\n",
       "   {'Key': 'Analise.html'},\n",
       "   {'Key': 'log/j-VDFGKFNMETKB/node/i-067413330dc9c8fc0/setup-devices/setup_var_lib_dir.log.gz'},\n",
       "   {'Key': 'log/j-VDFGKFNMETKB/node/i-095dff7056a8b0bd0/setup-devices/setup_var_lib_dir.log.gz'},\n",
       "   {'Key': 'log/j-VDFGKFNMETKB/node/i-067413330dc9c8fc0/provision-node/apps-phase/0/65a958d3-d800-433a-b0e5-c64dc937fd68/puppet.log.gz'},\n",
       "   {'Key': 'log/j-VDFGKFNMETKB/node/i-067413330dc9c8fc0/setup-devices/setup_emr_metrics.log.gz'}]}]"
      ]
     },
     "execution_count": 14,
     "metadata": {},
     "output_type": "execute_result"
    }
   ],
   "source": [
    "bucket = s3.Bucket(my_bucket)\n",
    "bucket.objects.all().delete()"
   ]
  },
  {
   "cell_type": "markdown",
   "metadata": {},
   "source": [
    "Remoção do Bucket"
   ]
  },
  {
   "cell_type": "code",
   "execution_count": 15,
   "metadata": {},
   "outputs": [
    {
     "data": {
      "text/plain": [
       "{'ResponseMetadata': {'RequestId': 'F10AB1EF1D8224C1',\n",
       "  'HostId': 'k8USpgHxPoNsrAShJGnJyx2LsvOYXioO1ygBiAEpngwviPJ/EUbL+xAS4Q2ghqamqgLivBr71QA=',\n",
       "  'HTTPStatusCode': 204,\n",
       "  'HTTPHeaders': {'x-amz-id-2': 'k8USpgHxPoNsrAShJGnJyx2LsvOYXioO1ygBiAEpngwviPJ/EUbL+xAS4Q2ghqamqgLivBr71QA=',\n",
       "   'x-amz-request-id': 'F10AB1EF1D8224C1',\n",
       "   'date': 'Mon, 22 Jun 2020 20:05:03 GMT',\n",
       "   'server': 'AmazonS3'},\n",
       "  'RetryAttempts': 0}}"
      ]
     },
     "execution_count": 15,
     "metadata": {},
     "output_type": "execute_result"
    }
   ],
   "source": [
    "s3_client.delete_bucket(Bucket=my_bucket)"
   ]
  },
  {
   "cell_type": "code",
   "execution_count": null,
   "metadata": {},
   "outputs": [],
   "source": []
  },
  {
   "cell_type": "code",
   "execution_count": null,
   "metadata": {},
   "outputs": [],
   "source": []
  }
 ],
 "metadata": {
  "kernelspec": {
   "display_name": "Python 3",
   "language": "python",
   "name": "python3"
  },
  "language_info": {
   "codemirror_mode": {
    "name": "ipython",
    "version": 3
   },
   "file_extension": ".py",
   "mimetype": "text/x-python",
   "name": "python",
   "nbconvert_exporter": "python",
   "pygments_lexer": "ipython3",
   "version": "3.7.4"
  }
 },
 "nbformat": 4,
 "nbformat_minor": 2
}
