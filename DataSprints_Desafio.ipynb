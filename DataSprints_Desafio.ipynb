{
 "cells": [
  {
   "cell_type": "markdown",
   "metadata": {},
   "source": [
    "# Desafio DataSprints - Fabio Kfouri\n",
    "\n",
    "Este é um desafio dado pela <b><i>data <span style='color: red'>sprints</span></i></b> para avaliação técnica em Engenharia de Dados."
   ]
  },
  {
   "cell_type": "code",
   "execution_count": 1,
   "metadata": {},
   "outputs": [],
   "source": [
    "try:\n",
    "    !pip install pyspark==\"2.4.5\" --quiet\n",
    "    !pip install pandas==\"1.0.4\" --quiet\n",
    "    !pip install boto3==\"1.13.1\" --quiet\n",
    "except:\n",
    "    print(\"Running throw py file.\")"
   ]
  },
  {
   "cell_type": "code",
   "execution_count": 2,
   "metadata": {},
   "outputs": [],
   "source": [
    "from pyspark import SparkContext as sc\n",
    "from pyspark.sql import SparkSession\n",
    "from pyspark.sql import functions as F\n",
    "import pyspark\n",
    "import pandas as pd\n",
    "import json"
   ]
  },
  {
   "cell_type": "markdown",
   "metadata": {},
   "source": [
    "Criando uma SparkSession"
   ]
  },
  {
   "cell_type": "code",
   "execution_count": 3,
   "metadata": {},
   "outputs": [
    {
     "data": {
      "text/html": [
       "\n",
       "            <div>\n",
       "                <p><b>SparkSession - in-memory</b></p>\n",
       "                \n",
       "        <div>\n",
       "            <p><b>SparkContext</b></p>\n",
       "\n",
       "            <p><a href=\"http://LAPTOP-Y520:4040\">Spark UI</a></p>\n",
       "\n",
       "            <dl>\n",
       "              <dt>Version</dt>\n",
       "                <dd><code>v2.4.5</code></dd>\n",
       "              <dt>Master</dt>\n",
       "                <dd><code>local[*]</code></dd>\n",
       "              <dt>AppName</dt>\n",
       "                <dd><code>Desafio Data Sprints - Fabio Kfouri</code></dd>\n",
       "            </dl>\n",
       "        </div>\n",
       "        \n",
       "            </div>\n",
       "        "
      ],
      "text/plain": [
       "<pyspark.sql.session.SparkSession at 0x2a47a67b6c8>"
      ]
     },
     "execution_count": 3,
     "metadata": {},
     "output_type": "execute_result"
    }
   ],
   "source": [
    "spark = SparkSession\\\n",
    "        .builder\\\n",
    "        .appName(\"Desafio Data Sprints - Fabio Kfouri\")\\\n",
    "        .getOrCreate()\n",
    "spark"
   ]
  },
  {
   "cell_type": "markdown",
   "metadata": {},
   "source": [
    "## Criação dos Dataframes\n",
    "Referenciando o endereço das fontes. Para desenvolvimento local foi incluido as fontes na pasta <b>/data/</b>.\n",
    "\n",
    "Para uso em cluster, sera usado o endereço do Bucket AWS <b>s3://data-sprints-eng-test/</b>."
   ]
  },
  {
   "cell_type": "code",
   "execution_count": 4,
   "metadata": {},
   "outputs": [
    {
     "data": {
      "text/plain": [
       "'E:\\\\Projetos\\\\Jobs\\\\DataSprints/data/'"
      ]
     },
     "execution_count": 4,
     "metadata": {},
     "output_type": "execute_result"
    }
   ],
   "source": [
    "import os\n",
    "dirpath = os.getcwd()\n",
    "\n",
    "dataPath = 'https://s3.amazonaws.com/data-sprints-eng-test/'\n",
    "dataPath = 's3://data-sprints-eng-test/'\n",
    "dataPath = dirpath + \"/data/\"\n",
    "dataPath"
   ]
  },
  {
   "cell_type": "markdown",
   "metadata": {},
   "source": [
    "#### Leitura e Correçao da fonte Payment"
   ]
  },
  {
   "cell_type": "code",
   "execution_count": 5,
   "metadata": {},
   "outputs": [
    {
     "name": "stdout",
     "output_type": "stream",
     "text": [
      "+------------+--------------+\n",
      "|           A|             B|\n",
      "+------------+--------------+\n",
      "|payment_type|payment_lookup|\n",
      "|         Cas|          Cash|\n",
      "|         CAS|          Cash|\n",
      "+------------+--------------+\n",
      "only showing top 3 rows\n",
      "\n"
     ]
    }
   ],
   "source": [
    "df_payment = spark.read.csv(dataPath + 'data-payment_lookup-csv.csv', header = True, sep = \",\")\n",
    "df_payment.show(3)"
   ]
  },
  {
   "cell_type": "markdown",
   "metadata": {},
   "source": [
    "Verificado que a primeira linha precisa ser ignorada. Inclusao de index para auxiliar a correção."
   ]
  },
  {
   "cell_type": "code",
   "execution_count": 6,
   "metadata": {},
   "outputs": [
    {
     "name": "stdout",
     "output_type": "stream",
     "text": [
      "+------------+--------------+-----+\n",
      "|           A|             B|index|\n",
      "+------------+--------------+-----+\n",
      "|payment_type|payment_lookup|    0|\n",
      "|         Cas|          Cash|    1|\n",
      "|         CAS|          Cash|    2|\n",
      "+------------+--------------+-----+\n",
      "only showing top 3 rows\n",
      "\n"
     ]
    }
   ],
   "source": [
    "df_payment = df_payment.withColumn('index', F.monotonically_increasing_id())\n",
    "df_payment.show(3)"
   ]
  },
  {
   "cell_type": "markdown",
   "metadata": {},
   "source": [
    "Renomeando a coluna pelos valores pelo index zero. "
   ]
  },
  {
   "cell_type": "code",
   "execution_count": 7,
   "metadata": {},
   "outputs": [],
   "source": [
    "cols = df_payment.columns\n",
    "values = df_payment.filter('index = 0').collect()\n",
    "#print(cols, len(cols), values, len(values[0]), values[0])\n",
    "\n",
    "for i in range(len(cols)):\n",
    "    if cols[i] != 'index' :\n",
    "        #print(i, cols[i], values[0][i])\n",
    "        df_payment = df_payment.select(df_payment.columns).withColumnRenamed(cols[i], values[0][i])"
   ]
  },
  {
   "cell_type": "markdown",
   "metadata": {},
   "source": [
    "Removendo a linha index zero."
   ]
  },
  {
   "cell_type": "code",
   "execution_count": 8,
   "metadata": {},
   "outputs": [
    {
     "name": "stdout",
     "output_type": "stream",
     "text": [
      "+------------+--------------+-----+\n",
      "|payment_type|payment_lookup|index|\n",
      "+------------+--------------+-----+\n",
      "|         Cas|          Cash|    1|\n",
      "|         CAS|          Cash|    2|\n",
      "|         Cre|        Credit|    3|\n",
      "+------------+--------------+-----+\n",
      "only showing top 3 rows\n",
      "\n"
     ]
    }
   ],
   "source": [
    "df_payment = df_payment.filter('index<>0')\n",
    "df_payment.show(3)"
   ]
  },
  {
   "cell_type": "markdown",
   "metadata": {},
   "source": [
    "Criação de view payment"
   ]
  },
  {
   "cell_type": "code",
   "execution_count": 10,
   "metadata": {},
   "outputs": [],
   "source": [
    "df_payment.createOrReplaceTempView(\"payment\")"
   ]
  },
  {
   "cell_type": "markdown",
   "metadata": {},
   "source": [
    "#### Leitura da fonte de Vendor"
   ]
  },
  {
   "cell_type": "code",
   "execution_count": 9,
   "metadata": {},
   "outputs": [
    {
     "name": "stdout",
     "output_type": "stream",
     "text": [
      "+---------+--------------------+--------------------+--------+-----+-----+-------+--------------------+-------+\n",
      "|vendor_id|                name|             address|    city|state|  zip|country|             contact|current|\n",
      "+---------+--------------------+--------------------+--------+-----+-----+-------+--------------------+-------+\n",
      "|      CMT|Creative Mobile T...|950 4th Road Suit...|Brooklyn|   NY|11210|    USA|contactCMT@gmail.com|    Yes|\n",
      "|      VTS|        VeriFone Inc|       26 Summit St.|Flushing|   NY|11354|    USA|   admin@vtstaxi.com|    Yes|\n",
      "|      DDS|Dependable Driver...|8554 North Homest...|   Bronx|   NY|10472|    USA|          9778896500|    Yes|\n",
      "|       TS|  Total Solutions Co|Five Boroughs Tax...|Brooklyn|   NY|11229|    USA|       mgmt@5btc.com|    Yes|\n",
      "|       MT|           Mega Taxi| 4 East Jennings St.|Brooklyn|   NY|11228|    USA|contact@megataxic...|     No|\n",
      "+---------+--------------------+--------------------+--------+-----+-----+-------+--------------------+-------+\n",
      "\n"
     ]
    }
   ],
   "source": [
    "df_vendor = spark.read.csv(dataPath + 'data-vendor_lookup-csv.csv', header = True, sep = \",\")\n",
    "df_vendor.show()"
   ]
  },
  {
   "cell_type": "markdown",
   "metadata": {},
   "source": [
    "Criação da view vendor."
   ]
  },
  {
   "cell_type": "code",
   "execution_count": 11,
   "metadata": {},
   "outputs": [],
   "source": [
    "df_vendor.createOrReplaceTempView(\"vendor\")"
   ]
  },
  {
   "cell_type": "markdown",
   "metadata": {},
   "source": [
    "## Leitura das corridas de taxi no período de 2009 à 2012"
   ]
  },
  {
   "cell_type": "code",
   "execution_count": 12,
   "metadata": {},
   "outputs": [
    {
     "data": {
      "text/plain": [
       "1000000"
      ]
     },
     "execution_count": 12,
     "metadata": {},
     "output_type": "execute_result"
    }
   ],
   "source": [
    "f_2009 = 'data-sample_data-nyctaxi-trips-2009-json_corrigido.json'\n",
    "df_2009 = spark.read.json(dataPath + f_2009)\n",
    "df_2009.count()"
   ]
  },
  {
   "cell_type": "code",
   "execution_count": 13,
   "metadata": {},
   "outputs": [],
   "source": [
    "f_2010 = 'data-sample_data-nyctaxi-trips-2010-json_corrigido.json'\n",
    "df_2010 = spark.read.json(dataPath + f_2010)"
   ]
  },
  {
   "cell_type": "code",
   "execution_count": 14,
   "metadata": {},
   "outputs": [],
   "source": [
    "f_2011 = 'data-sample_data-nyctaxi-trips-2011-json_corrigido.json'\n",
    "df_2011 = spark.read.json(dataPath + f_2011)"
   ]
  },
  {
   "cell_type": "code",
   "execution_count": 15,
   "metadata": {},
   "outputs": [],
   "source": [
    "f_2012 = 'data-sample_data-nyctaxi-trips-2012-json_corrigido.json'\n",
    "df_2012 = spark.read.json(dataPath + f_2012)"
   ]
  },
  {
   "cell_type": "markdown",
   "metadata": {},
   "source": [
    "## Preparação do DataFrame de corridas de taxi.\n",
    "Concatenando todos os dataFrames em único DataFrame e em seguinda verificando o total de linhas do DataFrame."
   ]
  },
  {
   "cell_type": "code",
   "execution_count": 16,
   "metadata": {},
   "outputs": [
    {
     "name": "stdout",
     "output_type": "stream",
     "text": [
      "Tamanho do DataFrame concatenado: 4000000 registros\n"
     ]
    }
   ],
   "source": [
    "df = df_2012.union(df_2011).union(df_2010).union(df_2009)\n",
    "print(\"Tamanho do DataFrame concatenado:\", df.count(), 'registros')"
   ]
  },
  {
   "cell_type": "markdown",
   "metadata": {},
   "source": [
    "Identificando o Schema do DataFrame"
   ]
  },
  {
   "cell_type": "code",
   "execution_count": 17,
   "metadata": {},
   "outputs": [
    {
     "name": "stdout",
     "output_type": "stream",
     "text": [
      "root\n",
      " |-- dropoff_datetime: string (nullable = true)\n",
      " |-- dropoff_latitude: double (nullable = true)\n",
      " |-- dropoff_longitude: double (nullable = true)\n",
      " |-- fare_amount: double (nullable = true)\n",
      " |-- passenger_count: long (nullable = true)\n",
      " |-- payment_type: string (nullable = true)\n",
      " |-- pickup_datetime: string (nullable = true)\n",
      " |-- pickup_latitude: double (nullable = true)\n",
      " |-- pickup_longitude: double (nullable = true)\n",
      " |-- rate_code: string (nullable = true)\n",
      " |-- store_and_fwd_flag: long (nullable = true)\n",
      " |-- surcharge: double (nullable = true)\n",
      " |-- tip_amount: double (nullable = true)\n",
      " |-- tolls_amount: double (nullable = true)\n",
      " |-- total_amount: double (nullable = true)\n",
      " |-- trip_distance: double (nullable = true)\n",
      " |-- vendor_id: string (nullable = true)\n",
      "\n"
     ]
    }
   ],
   "source": [
    "df.printSchema()"
   ]
  },
  {
   "cell_type": "markdown",
   "metadata": {},
   "source": [
    "Visualizando o aspecto dos dados"
   ]
  },
  {
   "cell_type": "code",
   "execution_count": 18,
   "metadata": {},
   "outputs": [
    {
     "name": "stdout",
     "output_type": "stream",
     "text": [
      "+--------------------------------+----------------+-----------------+-----------+---------------+------------+--------------------------------+---------------+----------------+---------+------------------+---------+----------+------------+------------+-------------+---------+\n",
      "|dropoff_datetime                |dropoff_latitude|dropoff_longitude|fare_amount|passenger_count|payment_type|pickup_datetime                 |pickup_latitude|pickup_longitude|rate_code|store_and_fwd_flag|surcharge|tip_amount|tolls_amount|total_amount|trip_distance|vendor_id|\n",
      "+--------------------------------+----------------+-----------------+-----------+---------------+------------+--------------------------------+---------------+----------------+---------+------------------+---------+----------+------------+------------+-------------+---------+\n",
      "|2012-06-09T16:31:19.862787+00:00|40.74795        |-73.994712       |5.4        |2              |Cash        |2012-06-09T16:21:13.580003+00:00|40.74295       |-74.004114      |null     |null              |0.0      |0.0       |0.0         |5.4         |0.8          |CMT      |\n",
      "|2012-08-14T21:54:50.01863+00:00 |40.792385       |-73.940449       |15.4       |1              |Cash        |2012-08-14T21:44:14.940659+00:00|40.747784      |-73.996506      |null     |null              |0.0      |0.0       |0.0         |15.4        |5.4          |CMT      |\n",
      "|2012-07-06T17:22:57.404442+00:00|40.768108       |-73.944535       |6.1        |5              |CASH        |2012-07-06T17:12:07.862531+00:00|40.75207       |-73.95134       |null     |null              |1.0      |0.0       |0.0         |7.1         |1.67         |VTS      |\n",
      "|2012-07-22T04:20:45.142945+00:00|40.721812       |-73.958122       |12.9       |1              |CASH        |2012-07-22T04:12:28.704958+00:00|40.729128      |-74.001117      |null     |null              |0.5      |0.0       |0.0         |13.4        |4.13         |VTS      |\n",
      "|2012-07-11T11:49:03.034108+00:00|40.776075       |-73.979757       |7.7        |1              |CASH        |2012-07-11T11:40:13.77461+00:00 |40.756873      |-73.9766        |null     |null              |0.5      |0.0       |0.0         |8.2         |2.03         |VTS      |\n",
      "+--------------------------------+----------------+-----------------+-----------+---------------+------------+--------------------------------+---------------+----------------+---------+------------------+---------+----------+------------+------------+-------------+---------+\n",
      "only showing top 5 rows\n",
      "\n"
     ]
    }
   ],
   "source": [
    "df.show(5, truncate = False)"
   ]
  },
  {
   "cell_type": "markdown",
   "metadata": {},
   "source": [
    "Conversão de colunas [dropoff_datetime, pickup_datetime] do tipo String para tipo TimeStamp."
   ]
  },
  {
   "cell_type": "code",
   "execution_count": 19,
   "metadata": {},
   "outputs": [
    {
     "name": "stdout",
     "output_type": "stream",
     "text": [
      "root\n",
      " |-- dropoff_datetime: timestamp (nullable = true)\n",
      " |-- dropoff_latitude: double (nullable = true)\n",
      " |-- dropoff_longitude: double (nullable = true)\n",
      " |-- fare_amount: double (nullable = true)\n",
      " |-- passenger_count: long (nullable = true)\n",
      " |-- payment_type: string (nullable = true)\n",
      " |-- pickup_datetime: timestamp (nullable = true)\n",
      " |-- pickup_latitude: double (nullable = true)\n",
      " |-- pickup_longitude: double (nullable = true)\n",
      " |-- rate_code: string (nullable = true)\n",
      " |-- store_and_fwd_flag: long (nullable = true)\n",
      " |-- surcharge: double (nullable = true)\n",
      " |-- tip_amount: double (nullable = true)\n",
      " |-- tolls_amount: double (nullable = true)\n",
      " |-- total_amount: double (nullable = true)\n",
      " |-- trip_distance: double (nullable = true)\n",
      " |-- vendor_id: string (nullable = true)\n",
      "\n"
     ]
    }
   ],
   "source": [
    "#DataFrame Convertido (dfc)\n",
    "dfc = df.withColumn('dropoff_datetime', F.to_utc_timestamp('dropoff_datetime', \"yyyy-MM-dd'T'HH:mm:ss.SSS'Z'\"))\\\n",
    "        .withColumn('pickup_datetime', F.to_utc_timestamp('dropoff_datetime', \"yyyy-MM-dd'T'HH:mm:ss.SSS'Z'\"))\n",
    "dfc.printSchema()"
   ]
  },
  {
   "cell_type": "markdown",
   "metadata": {},
   "source": [
    "Visualizando o aspecto dos dados, em especial os campos dataTime"
   ]
  },
  {
   "cell_type": "code",
   "execution_count": 20,
   "metadata": {},
   "outputs": [
    {
     "name": "stdout",
     "output_type": "stream",
     "text": [
      "+--------------------------+----------------+-----------------+-----------+---------------+------------+--------------------------+---------------+----------------+---------+------------------+---------+----------+------------+------------+-------------+---------+\n",
      "|dropoff_datetime          |dropoff_latitude|dropoff_longitude|fare_amount|passenger_count|payment_type|pickup_datetime           |pickup_latitude|pickup_longitude|rate_code|store_and_fwd_flag|surcharge|tip_amount|tolls_amount|total_amount|trip_distance|vendor_id|\n",
      "+--------------------------+----------------+-----------------+-----------+---------------+------------+--------------------------+---------------+----------------+---------+------------------+---------+----------+------------+------------+-------------+---------+\n",
      "|2012-06-09 13:31:19.862787|40.74795        |-73.994712       |5.4        |2              |Cash        |2012-06-09 13:31:19.862787|40.74295       |-74.004114      |null     |null              |0.0      |0.0       |0.0         |5.4         |0.8          |CMT      |\n",
      "|2012-08-14 18:54:50.01863 |40.792385       |-73.940449       |15.4       |1              |Cash        |2012-08-14 18:54:50.01863 |40.747784      |-73.996506      |null     |null              |0.0      |0.0       |0.0         |15.4        |5.4          |CMT      |\n",
      "|2012-07-06 14:22:57.404442|40.768108       |-73.944535       |6.1        |5              |CASH        |2012-07-06 14:22:57.404442|40.75207       |-73.95134       |null     |null              |1.0      |0.0       |0.0         |7.1         |1.67         |VTS      |\n",
      "|2012-07-22 01:20:45.142945|40.721812       |-73.958122       |12.9       |1              |CASH        |2012-07-22 01:20:45.142945|40.729128      |-74.001117      |null     |null              |0.5      |0.0       |0.0         |13.4        |4.13         |VTS      |\n",
      "|2012-07-11 08:49:03.034108|40.776075       |-73.979757       |7.7        |1              |CASH        |2012-07-11 08:49:03.034108|40.756873      |-73.9766        |null     |null              |0.5      |0.0       |0.0         |8.2         |2.03         |VTS      |\n",
      "+--------------------------+----------------+-----------------+-----------+---------------+------------+--------------------------+---------------+----------------+---------+------------------+---------+----------+------------+------------+-------------+---------+\n",
      "only showing top 5 rows\n",
      "\n"
     ]
    }
   ],
   "source": [
    "dfc.show(5, False)"
   ]
  },
  {
   "cell_type": "markdown",
   "metadata": {},
   "source": [
    "Criando uma view trip."
   ]
  },
  {
   "cell_type": "code",
   "execution_count": 111,
   "metadata": {},
   "outputs": [],
   "source": [
    "dfc.createOrReplaceTempView(\"trip\")"
   ]
  },
  {
   "cell_type": "markdown",
   "metadata": {},
   "source": [
    "## Questões do Quesito Mínimo"
   ]
  },
  {
   "cell_type": "markdown",
   "metadata": {},
   "source": [
    "<b>O resultado para a questão 1 sobre a distância média (valor arredondado) percorrida por viagens com no máximo 2 passareios é:"
   ]
  },
  {
   "cell_type": "code",
   "execution_count": 113,
   "metadata": {},
   "outputs": [
    {
     "name": "stdout",
     "output_type": "stream",
     "text": [
      "+------------------+\n",
      "|mean_trip_distance|\n",
      "+------------------+\n",
      "|             2.663|\n",
      "+------------------+\n",
      "\n"
     ]
    }
   ],
   "source": [
    "df_question_1 = spark.sql(\"\"\"\n",
    "      SELECT ROUND(AVG(trip_distance),3) mean_trip_distance\n",
    "        FROM trip t\n",
    "       WHERE t.passenger_count <= 2\n",
    "\"\"\")\n",
    "df_question_1.show()"
   ]
  },
  {
   "cell_type": "markdown",
   "metadata": {},
   "source": [
    "O resultado para a questão 2 referente aos 3 maiores Vendors em quantidade de dinheiro (valores em Milhões U$) arrecado são:"
   ]
  },
  {
   "cell_type": "code",
   "execution_count": 116,
   "metadata": {},
   "outputs": [
    {
     "name": "stdout",
     "output_type": "stream",
     "text": [
      "+---------------------------------+---------+------+\n",
      "|name                             |vendor_id|amount|\n",
      "+---------------------------------+---------+------+\n",
      "|Creative Mobile Technologies, LLC|CMT      |19.549|\n",
      "|VeriFone Inc                     |VTS      |19.043|\n",
      "|Dependable Driver Service, Inc   |DDS      |2.715 |\n",
      "+---------------------------------+---------+------+\n",
      "\n"
     ]
    }
   ],
   "source": [
    "df_question_2 = spark.sql(\"\"\"\n",
    "    SELECT v.name, t.vendor_id, ROUND(SUM(total_amount)/1E6,3) amount \n",
    "      FROM trip t LEFT JOIN vendor v ON (t.vendor_id = v.vendor_id)\n",
    "  GROUP BY t.vendor_id, v.name\n",
    "  ORDER BY SUM(total_amount) DESC\n",
    "     LIMIT 3\n",
    "\"\"\")\n",
    "df_question_2.show(truncate = False)"
   ]
  },
  {
   "cell_type": "code",
   "execution_count": null,
   "metadata": {},
   "outputs": [],
   "source": []
  },
  {
   "cell_type": "code",
   "execution_count": 94,
   "metadata": {},
   "outputs": [],
   "source": [
    "df_question_2 = spark.sql(\"\"\"\n",
    "    SELECT payment_type, fare_amount, surcharge, tip_amount, tolls_amount, total_amount, t.vendor_id, v.name\n",
    "      FROM trip t JOIN vendor v ON (t.vendor_id = v.vendor_id)\n",
    "\"\"\")"
   ]
  },
  {
   "cell_type": "code",
   "execution_count": 95,
   "metadata": {},
   "outputs": [
    {
     "name": "stdout",
     "output_type": "stream",
     "text": [
      "+------------+-----------+---------+----------+------------+------------+---------+--------------------+\n",
      "|payment_type|fare_amount|surcharge|tip_amount|tolls_amount|total_amount|vendor_id|                name|\n",
      "+------------+-----------+---------+----------+------------+------------+---------+--------------------+\n",
      "|        Cash|        5.4|      0.0|       0.0|         0.0|         5.4|      CMT|Creative Mobile T...|\n",
      "|        Cash|       15.4|      0.0|       0.0|         0.0|        15.4|      CMT|Creative Mobile T...|\n",
      "|        CASH|        6.1|      1.0|       0.0|         0.0|         7.1|      VTS|        VeriFone Inc|\n",
      "|        CASH|       12.9|      0.5|       0.0|         0.0|        13.4|      VTS|        VeriFone Inc|\n",
      "|        CASH|        7.7|      0.5|       0.0|         0.0|         8.2|      VTS|        VeriFone Inc|\n",
      "|        CASH|        6.5|      0.0|       0.0|         0.0|         6.5|      VTS|        VeriFone Inc|\n",
      "|        CASH|       22.1|      0.0|       0.0|        4.15|       26.25|      VTS|        VeriFone Inc|\n",
      "|      Credit|        5.7|      0.0|       2.0|         0.0|         7.7|      VTS|        VeriFone Inc|\n",
      "|        CASH|        6.1|      0.0|       0.0|         0.0|         6.1|      VTS|        VeriFone Inc|\n",
      "|        CASH|        3.7|      0.0|       0.0|         0.0|         3.7|      VTS|        VeriFone Inc|\n",
      "|        CASH|        5.7|      1.0|       0.0|         0.0|         6.7|      VTS|        VeriFone Inc|\n",
      "|      Credit|       11.7|      0.5|       2.0|         0.0|        14.2|      VTS|        VeriFone Inc|\n",
      "|        CASH|        9.3|      0.0|       0.0|         0.0|         9.3|      VTS|        VeriFone Inc|\n",
      "|      Credit|       15.3|      0.0|       2.0|         0.0|        17.3|      CMT|Creative Mobile T...|\n",
      "|        CASH|        7.7|      0.0|       0.0|         0.0|         7.7|      VTS|        VeriFone Inc|\n",
      "|        CASH|        3.7|      0.5|       0.0|         0.0|         4.2|      VTS|        VeriFone Inc|\n",
      "|        CASH|       14.1|      0.0|       0.0|         0.0|        14.1|      VTS|        VeriFone Inc|\n",
      "|      Credit|        4.5|      1.0|       1.0|         0.0|         6.5|      VTS|        VeriFone Inc|\n",
      "|        CASH|        5.7|      0.0|       0.0|         0.0|         5.7|      VTS|        VeriFone Inc|\n",
      "|        CASH|        7.7|      0.5|       0.0|         0.0|         8.2|      VTS|        VeriFone Inc|\n",
      "+------------+-----------+---------+----------+------------+------------+---------+--------------------+\n",
      "only showing top 20 rows\n",
      "\n"
     ]
    }
   ],
   "source": [
    "df_question_2.show()"
   ]
  },
  {
   "cell_type": "code",
   "execution_count": 110,
   "metadata": {},
   "outputs": [
    {
     "name": "stdout",
     "output_type": "stream",
     "text": [
      "+---------------------------------+---------+------+\n",
      "|name                             |vendor_id|amount|\n",
      "+---------------------------------+---------+------+\n",
      "|Creative Mobile Technologies, LLC|CMT      |19.549|\n",
      "|VeriFone Inc                     |VTS      |19.043|\n",
      "|Dependable Driver Service, Inc   |DDS      |2.715 |\n",
      "+---------------------------------+---------+------+\n",
      "\n"
     ]
    }
   ],
   "source": []
  },
  {
   "cell_type": "code",
   "execution_count": 85,
   "metadata": {},
   "outputs": [
    {
     "name": "stdout",
     "output_type": "stream",
     "text": [
      "+--------------------+-------+---------+--------------------+\n",
      "|              amount|    qtd|vendor_id|                name|\n",
      "+--------------------+-------+---------+--------------------+\n",
      "|1.9549084279999983E7|1916128|      CMT|Creative Mobile T...|\n",
      "|1.9043434000000075E7|1833052|      VTS|        VeriFone Inc|\n",
      "|  2714901.7200000007| 250816|      DDS|Dependable Driver...|\n",
      "|                45.6|      4|       TS|  Total Solutions Co|\n",
      "+--------------------+-------+---------+--------------------+\n",
      "\n"
     ]
    }
   ],
   "source": [
    "df_question_2.show()"
   ]
  },
  {
   "cell_type": "code",
   "execution_count": null,
   "metadata": {},
   "outputs": [],
   "source": []
  },
  {
   "cell_type": "code",
   "execution_count": null,
   "metadata": {},
   "outputs": [],
   "source": [
    "aa"
   ]
  }
 ],
 "metadata": {
  "kernelspec": {
   "display_name": "Python 3",
   "language": "python",
   "name": "python3"
  },
  "language_info": {
   "codemirror_mode": {
    "name": "ipython",
    "version": 3
   },
   "file_extension": ".py",
   "mimetype": "text/x-python",
   "name": "python",
   "nbconvert_exporter": "python",
   "pygments_lexer": "ipython3",
   "version": "3.7.4"
  }
 },
 "nbformat": 4,
 "nbformat_minor": 2
}
