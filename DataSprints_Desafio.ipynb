{
 "cells": [
  {
   "cell_type": "markdown",
   "metadata": {},
   "source": [
    "# Desafio DataSprints - Fabio Kfouri\n",
    "\n",
    "Este é um desafio dado pela <b><i>data <span style='color: red'>sprints</span></i></b> para avaliação técnica em Engenharia de Dados."
   ]
  },
  {
   "cell_type": "code",
   "execution_count": 1,
   "metadata": {},
   "outputs": [],
   "source": [
    "try:\n",
    "    !pip install pyspark==\"2.4.5\" --quiet\n",
    "    !pip install pandas==\"1.0.4\" --quiet\n",
    "    !pip install seaborn==\"0.9.0\" --quiet\n",
    "    !pip install boto3==\"1.13.1\" --quiet\n",
    "    !pip install matplotlib==\"3.2.2\" --quiet\n",
    "except:\n",
    "    print(\"Running throw py file.\")"
   ]
  },
  {
   "cell_type": "code",
   "execution_count": 2,
   "metadata": {},
   "outputs": [],
   "source": [
    "import warnings\n",
    "warnings.filterwarnings('ignore') #para ignorar mensagens de warnings"
   ]
  },
  {
   "cell_type": "code",
   "execution_count": 3,
   "metadata": {},
   "outputs": [],
   "source": [
    "from pyspark import SparkContext as sc\n",
    "from pyspark.sql import SparkSession\n",
    "from pyspark.sql import functions as F\n",
    "import pyspark\n",
    "import json\n",
    "import pandas as pd\n",
    "import matplotlib.pyplot as plt\n",
    "import seaborn as sns"
   ]
  },
  {
   "cell_type": "markdown",
   "metadata": {},
   "source": [
    "Criando uma SparkSession"
   ]
  },
  {
   "cell_type": "code",
   "execution_count": 4,
   "metadata": {},
   "outputs": [
    {
     "data": {
      "text/html": [
       "\n",
       "            <div>\n",
       "                <p><b>SparkSession - in-memory</b></p>\n",
       "                \n",
       "        <div>\n",
       "            <p><b>SparkContext</b></p>\n",
       "\n",
       "            <p><a href=\"http://LAPTOP-Y520:4040\">Spark UI</a></p>\n",
       "\n",
       "            <dl>\n",
       "              <dt>Version</dt>\n",
       "                <dd><code>v2.4.5</code></dd>\n",
       "              <dt>Master</dt>\n",
       "                <dd><code>local[*]</code></dd>\n",
       "              <dt>AppName</dt>\n",
       "                <dd><code>Desafio Data Sprints - Fabio Kfouri</code></dd>\n",
       "            </dl>\n",
       "        </div>\n",
       "        \n",
       "            </div>\n",
       "        "
      ],
      "text/plain": [
       "<pyspark.sql.session.SparkSession at 0x23fcb66bfc8>"
      ]
     },
     "execution_count": 4,
     "metadata": {},
     "output_type": "execute_result"
    }
   ],
   "source": [
    "spark = SparkSession\\\n",
    "        .builder\\\n",
    "        .appName(\"Desafio Data Sprints - Fabio Kfouri\")\\\n",
    "        .getOrCreate()\n",
    "spark"
   ]
  },
  {
   "cell_type": "markdown",
   "metadata": {},
   "source": [
    "## Criação dos Dataframes\n",
    "Referenciando o endereço das fontes. Para desenvolvimento local foi incluido as fontes na pasta <b>/data/</b>.\n",
    "\n",
    "Para uso em cluster, sera usado o endereço do Bucket AWS <b>s3://data-sprints-eng-test/</b>."
   ]
  },
  {
   "cell_type": "code",
   "execution_count": 5,
   "metadata": {},
   "outputs": [
    {
     "data": {
      "text/plain": [
       "'E:\\\\Projetos\\\\Jobs\\\\DataSprints/data/'"
      ]
     },
     "execution_count": 5,
     "metadata": {},
     "output_type": "execute_result"
    }
   ],
   "source": [
    "import os\n",
    "dirpath = os.getcwd()\n",
    "\n",
    "dataPath = 'https://s3.amazonaws.com/data-sprints-eng-test/'\n",
    "dataPath = 's3://data-sprints-eng-test/'\n",
    "dataPath = dirpath + \"/data/\"\n",
    "dataPath"
   ]
  },
  {
   "cell_type": "markdown",
   "metadata": {},
   "source": [
    "#### Leitura e Correçao da fonte Payment"
   ]
  },
  {
   "cell_type": "code",
   "execution_count": 6,
   "metadata": {},
   "outputs": [
    {
     "name": "stdout",
     "output_type": "stream",
     "text": [
      "+------------+--------------+\n",
      "|           A|             B|\n",
      "+------------+--------------+\n",
      "|payment_type|payment_lookup|\n",
      "|         Cas|          Cash|\n",
      "|         CAS|          Cash|\n",
      "+------------+--------------+\n",
      "only showing top 3 rows\n",
      "\n"
     ]
    }
   ],
   "source": [
    "df_payment = spark.read.csv(dataPath + 'data-payment_lookup-csv.csv', header = True, sep = \",\")\n",
    "df_payment.show(3)"
   ]
  },
  {
   "cell_type": "markdown",
   "metadata": {},
   "source": [
    "Verificado que a primeira linha precisa ser ignorada. Inclusao de index para auxiliar a correção."
   ]
  },
  {
   "cell_type": "code",
   "execution_count": 7,
   "metadata": {},
   "outputs": [
    {
     "name": "stdout",
     "output_type": "stream",
     "text": [
      "+------------+--------------+-----+\n",
      "|           A|             B|index|\n",
      "+------------+--------------+-----+\n",
      "|payment_type|payment_lookup|    0|\n",
      "|         Cas|          Cash|    1|\n",
      "|         CAS|          Cash|    2|\n",
      "+------------+--------------+-----+\n",
      "only showing top 3 rows\n",
      "\n"
     ]
    }
   ],
   "source": [
    "df_payment = df_payment.withColumn('index', F.monotonically_increasing_id())\n",
    "df_payment.show(3)"
   ]
  },
  {
   "cell_type": "markdown",
   "metadata": {},
   "source": [
    "Renomeando a coluna pelos valores pelo index zero. "
   ]
  },
  {
   "cell_type": "code",
   "execution_count": 8,
   "metadata": {},
   "outputs": [],
   "source": [
    "cols = df_payment.columns\n",
    "values = df_payment.filter('index = 0').collect()\n",
    "#print(cols, len(cols), values, len(values[0]), values[0])\n",
    "\n",
    "for i in range(len(cols)):\n",
    "    if cols[i] != 'index' :\n",
    "        #print(i, cols[i], values[0][i])\n",
    "        df_payment = df_payment.select(df_payment.columns).withColumnRenamed(cols[i], values[0][i])"
   ]
  },
  {
   "cell_type": "markdown",
   "metadata": {},
   "source": [
    "Removendo a linha index zero."
   ]
  },
  {
   "cell_type": "code",
   "execution_count": 9,
   "metadata": {},
   "outputs": [
    {
     "name": "stdout",
     "output_type": "stream",
     "text": [
      "+------------+--------------+-----+\n",
      "|payment_type|payment_lookup|index|\n",
      "+------------+--------------+-----+\n",
      "|         Cas|          Cash|    1|\n",
      "|         CAS|          Cash|    2|\n",
      "|         Cre|        Credit|    3|\n",
      "+------------+--------------+-----+\n",
      "only showing top 3 rows\n",
      "\n"
     ]
    }
   ],
   "source": [
    "df_payment = df_payment.filter('index<>0')\n",
    "df_payment.show(3)"
   ]
  },
  {
   "cell_type": "markdown",
   "metadata": {},
   "source": [
    "Criação de view payment"
   ]
  },
  {
   "cell_type": "code",
   "execution_count": 10,
   "metadata": {},
   "outputs": [],
   "source": [
    "df_payment.createOrReplaceTempView(\"payment\")"
   ]
  },
  {
   "cell_type": "markdown",
   "metadata": {},
   "source": [
    "#### Leitura da fonte de Vendor"
   ]
  },
  {
   "cell_type": "code",
   "execution_count": 11,
   "metadata": {},
   "outputs": [
    {
     "name": "stdout",
     "output_type": "stream",
     "text": [
      "+---------+--------------------+--------------------+--------+-----+-----+-------+--------------------+-------+\n",
      "|vendor_id|                name|             address|    city|state|  zip|country|             contact|current|\n",
      "+---------+--------------------+--------------------+--------+-----+-----+-------+--------------------+-------+\n",
      "|      CMT|Creative Mobile T...|950 4th Road Suit...|Brooklyn|   NY|11210|    USA|contactCMT@gmail.com|    Yes|\n",
      "|      VTS|        VeriFone Inc|       26 Summit St.|Flushing|   NY|11354|    USA|   admin@vtstaxi.com|    Yes|\n",
      "|      DDS|Dependable Driver...|8554 North Homest...|   Bronx|   NY|10472|    USA|          9778896500|    Yes|\n",
      "|       TS|  Total Solutions Co|Five Boroughs Tax...|Brooklyn|   NY|11229|    USA|       mgmt@5btc.com|    Yes|\n",
      "|       MT|           Mega Taxi| 4 East Jennings St.|Brooklyn|   NY|11228|    USA|contact@megataxic...|     No|\n",
      "+---------+--------------------+--------------------+--------+-----+-----+-------+--------------------+-------+\n",
      "\n"
     ]
    }
   ],
   "source": [
    "df_vendor = spark.read.csv(dataPath + 'data-vendor_lookup-csv.csv', header = True, sep = \",\")\n",
    "df_vendor.show()"
   ]
  },
  {
   "cell_type": "markdown",
   "metadata": {},
   "source": [
    "Criação da view vendor."
   ]
  },
  {
   "cell_type": "code",
   "execution_count": 12,
   "metadata": {},
   "outputs": [],
   "source": [
    "df_vendor.createOrReplaceTempView(\"vendor\")"
   ]
  },
  {
   "cell_type": "markdown",
   "metadata": {},
   "source": [
    "## Leitura das corridas de taxi no período de 2009 à 2012"
   ]
  },
  {
   "cell_type": "code",
   "execution_count": 13,
   "metadata": {},
   "outputs": [
    {
     "data": {
      "text/plain": [
       "1000000"
      ]
     },
     "execution_count": 13,
     "metadata": {},
     "output_type": "execute_result"
    }
   ],
   "source": [
    "f_2009 = 'data-sample_data-nyctaxi-trips-2009-json_corrigido.json'\n",
    "df_2009 = spark.read.json(dataPath + f_2009)\n",
    "df_2009.count()"
   ]
  },
  {
   "cell_type": "code",
   "execution_count": 14,
   "metadata": {},
   "outputs": [],
   "source": [
    "f_2010 = 'data-sample_data-nyctaxi-trips-2010-json_corrigido.json'\n",
    "df_2010 = spark.read.json(dataPath + f_2010)"
   ]
  },
  {
   "cell_type": "code",
   "execution_count": 15,
   "metadata": {},
   "outputs": [],
   "source": [
    "f_2011 = 'data-sample_data-nyctaxi-trips-2011-json_corrigido.json'\n",
    "df_2011 = spark.read.json(dataPath + f_2011)"
   ]
  },
  {
   "cell_type": "code",
   "execution_count": 16,
   "metadata": {},
   "outputs": [],
   "source": [
    "f_2012 = 'data-sample_data-nyctaxi-trips-2012-json_corrigido.json'\n",
    "df_2012 = spark.read.json(dataPath + f_2012)"
   ]
  },
  {
   "cell_type": "markdown",
   "metadata": {},
   "source": [
    "## Preparação do DataFrame de corridas de taxi.\n",
    "Concatenando todos os dataFrames em único DataFrame e em seguinda verificando o total de linhas do DataFrame."
   ]
  },
  {
   "cell_type": "code",
   "execution_count": 17,
   "metadata": {},
   "outputs": [
    {
     "name": "stdout",
     "output_type": "stream",
     "text": [
      "Tamanho do DataFrame concatenado: 4000000 registros\n"
     ]
    }
   ],
   "source": [
    "df = df_2012.union(df_2011).union(df_2010).union(df_2009)\n",
    "print(\"Tamanho do DataFrame concatenado:\", df.count(), 'registros')"
   ]
  },
  {
   "cell_type": "markdown",
   "metadata": {},
   "source": [
    "Identificando o Schema do DataFrame"
   ]
  },
  {
   "cell_type": "code",
   "execution_count": 18,
   "metadata": {},
   "outputs": [
    {
     "name": "stdout",
     "output_type": "stream",
     "text": [
      "root\n",
      " |-- dropoff_datetime: string (nullable = true)\n",
      " |-- dropoff_latitude: double (nullable = true)\n",
      " |-- dropoff_longitude: double (nullable = true)\n",
      " |-- fare_amount: double (nullable = true)\n",
      " |-- passenger_count: long (nullable = true)\n",
      " |-- payment_type: string (nullable = true)\n",
      " |-- pickup_datetime: string (nullable = true)\n",
      " |-- pickup_latitude: double (nullable = true)\n",
      " |-- pickup_longitude: double (nullable = true)\n",
      " |-- rate_code: string (nullable = true)\n",
      " |-- store_and_fwd_flag: long (nullable = true)\n",
      " |-- surcharge: double (nullable = true)\n",
      " |-- tip_amount: double (nullable = true)\n",
      " |-- tolls_amount: double (nullable = true)\n",
      " |-- total_amount: double (nullable = true)\n",
      " |-- trip_distance: double (nullable = true)\n",
      " |-- vendor_id: string (nullable = true)\n",
      "\n"
     ]
    }
   ],
   "source": [
    "df.printSchema()"
   ]
  },
  {
   "cell_type": "markdown",
   "metadata": {},
   "source": [
    "Visualizando o aspecto dos dados"
   ]
  },
  {
   "cell_type": "code",
   "execution_count": 19,
   "metadata": {},
   "outputs": [
    {
     "name": "stdout",
     "output_type": "stream",
     "text": [
      "+--------------------------------+----------------+-----------------+-----------+---------------+------------+--------------------------------+---------------+----------------+---------+------------------+---------+----------+------------+------------+-------------+---------+\n",
      "|dropoff_datetime                |dropoff_latitude|dropoff_longitude|fare_amount|passenger_count|payment_type|pickup_datetime                 |pickup_latitude|pickup_longitude|rate_code|store_and_fwd_flag|surcharge|tip_amount|tolls_amount|total_amount|trip_distance|vendor_id|\n",
      "+--------------------------------+----------------+-----------------+-----------+---------------+------------+--------------------------------+---------------+----------------+---------+------------------+---------+----------+------------+------------+-------------+---------+\n",
      "|2012-06-09T16:31:19.862787+00:00|40.74795        |-73.994712       |5.4        |2              |Cash        |2012-06-09T16:21:13.580003+00:00|40.74295       |-74.004114      |null     |null              |0.0      |0.0       |0.0         |5.4         |0.8          |CMT      |\n",
      "|2012-08-14T21:54:50.01863+00:00 |40.792385       |-73.940449       |15.4       |1              |Cash        |2012-08-14T21:44:14.940659+00:00|40.747784      |-73.996506      |null     |null              |0.0      |0.0       |0.0         |15.4        |5.4          |CMT      |\n",
      "|2012-07-06T17:22:57.404442+00:00|40.768108       |-73.944535       |6.1        |5              |CASH        |2012-07-06T17:12:07.862531+00:00|40.75207       |-73.95134       |null     |null              |1.0      |0.0       |0.0         |7.1         |1.67         |VTS      |\n",
      "|2012-07-22T04:20:45.142945+00:00|40.721812       |-73.958122       |12.9       |1              |CASH        |2012-07-22T04:12:28.704958+00:00|40.729128      |-74.001117      |null     |null              |0.5      |0.0       |0.0         |13.4        |4.13         |VTS      |\n",
      "|2012-07-11T11:49:03.034108+00:00|40.776075       |-73.979757       |7.7        |1              |CASH        |2012-07-11T11:40:13.77461+00:00 |40.756873      |-73.9766        |null     |null              |0.5      |0.0       |0.0         |8.2         |2.03         |VTS      |\n",
      "+--------------------------------+----------------+-----------------+-----------+---------------+------------+--------------------------------+---------------+----------------+---------+------------------+---------+----------+------------+------------+-------------+---------+\n",
      "only showing top 5 rows\n",
      "\n"
     ]
    }
   ],
   "source": [
    "df.show(5, truncate = False)"
   ]
  },
  {
   "cell_type": "markdown",
   "metadata": {},
   "source": [
    "Conversão de colunas [dropoff_datetime, pickup_datetime] do tipo String para tipo TimeStamp."
   ]
  },
  {
   "cell_type": "code",
   "execution_count": 20,
   "metadata": {},
   "outputs": [
    {
     "name": "stdout",
     "output_type": "stream",
     "text": [
      "root\n",
      " |-- dropoff_datetime: timestamp (nullable = true)\n",
      " |-- dropoff_latitude: double (nullable = true)\n",
      " |-- dropoff_longitude: double (nullable = true)\n",
      " |-- fare_amount: double (nullable = true)\n",
      " |-- passenger_count: long (nullable = true)\n",
      " |-- payment_type: string (nullable = true)\n",
      " |-- pickup_datetime: timestamp (nullable = true)\n",
      " |-- pickup_latitude: double (nullable = true)\n",
      " |-- pickup_longitude: double (nullable = true)\n",
      " |-- rate_code: string (nullable = true)\n",
      " |-- store_and_fwd_flag: long (nullable = true)\n",
      " |-- surcharge: double (nullable = true)\n",
      " |-- tip_amount: double (nullable = true)\n",
      " |-- tolls_amount: double (nullable = true)\n",
      " |-- total_amount: double (nullable = true)\n",
      " |-- trip_distance: double (nullable = true)\n",
      " |-- vendor_id: string (nullable = true)\n",
      "\n"
     ]
    }
   ],
   "source": [
    "#DataFrame Convertido (dfc)\n",
    "dfc = df.withColumn('dropoff_datetime', F.to_utc_timestamp('dropoff_datetime', \"yyyy-MM-dd'T'HH:mm:ss.SSS'Z'\"))\\\n",
    "        .withColumn('pickup_datetime', F.to_utc_timestamp('pickup_datetime', \"yyyy-MM-dd'T'HH:mm:ss.SSS'Z'\"))\n",
    "dfc.printSchema()"
   ]
  },
  {
   "cell_type": "markdown",
   "metadata": {},
   "source": [
    "Visualizando o aspecto dos dados, em especial os campos dataTime"
   ]
  },
  {
   "cell_type": "code",
   "execution_count": 21,
   "metadata": {},
   "outputs": [
    {
     "name": "stdout",
     "output_type": "stream",
     "text": [
      "+--------------------------+----------------+-----------------+-----------+---------------+------------+--------------------------+---------------+----------------+---------+------------------+---------+----------+------------+------------+-------------+---------+\n",
      "|dropoff_datetime          |dropoff_latitude|dropoff_longitude|fare_amount|passenger_count|payment_type|pickup_datetime           |pickup_latitude|pickup_longitude|rate_code|store_and_fwd_flag|surcharge|tip_amount|tolls_amount|total_amount|trip_distance|vendor_id|\n",
      "+--------------------------+----------------+-----------------+-----------+---------------+------------+--------------------------+---------------+----------------+---------+------------------+---------+----------+------------+------------+-------------+---------+\n",
      "|2012-06-09 13:31:19.862787|40.74795        |-73.994712       |5.4        |2              |Cash        |2012-06-09 13:21:13.580003|40.74295       |-74.004114      |null     |null              |0.0      |0.0       |0.0         |5.4         |0.8          |CMT      |\n",
      "|2012-08-14 18:54:50.01863 |40.792385       |-73.940449       |15.4       |1              |Cash        |2012-08-14 18:44:14.940659|40.747784      |-73.996506      |null     |null              |0.0      |0.0       |0.0         |15.4        |5.4          |CMT      |\n",
      "|2012-07-06 14:22:57.404442|40.768108       |-73.944535       |6.1        |5              |CASH        |2012-07-06 14:12:07.862531|40.75207       |-73.95134       |null     |null              |1.0      |0.0       |0.0         |7.1         |1.67         |VTS      |\n",
      "|2012-07-22 01:20:45.142945|40.721812       |-73.958122       |12.9       |1              |CASH        |2012-07-22 01:12:28.704958|40.729128      |-74.001117      |null     |null              |0.5      |0.0       |0.0         |13.4        |4.13         |VTS      |\n",
      "|2012-07-11 08:49:03.034108|40.776075       |-73.979757       |7.7        |1              |CASH        |2012-07-11 08:40:13.77461 |40.756873      |-73.9766        |null     |null              |0.5      |0.0       |0.0         |8.2         |2.03         |VTS      |\n",
      "+--------------------------+----------------+-----------------+-----------+---------------+------------+--------------------------+---------------+----------------+---------+------------------+---------+----------+------------+------------+-------------+---------+\n",
      "only showing top 5 rows\n",
      "\n"
     ]
    }
   ],
   "source": [
    "dfc.show(5, False)"
   ]
  },
  {
   "cell_type": "markdown",
   "metadata": {},
   "source": [
    "Criando uma view trip."
   ]
  },
  {
   "cell_type": "code",
   "execution_count": 22,
   "metadata": {},
   "outputs": [],
   "source": [
    "dfc.createOrReplaceTempView(\"trip\")"
   ]
  },
  {
   "cell_type": "markdown",
   "metadata": {},
   "source": [
    "## Questões do Quesito Mínimo"
   ]
  },
  {
   "cell_type": "markdown",
   "metadata": {},
   "source": [
    "<b>Questão 1</b>: Qual a distância média percorrida por viagens com no máximo 2 passageiros.\n",
    "\n",
    "A distância média (valor arredondado) percorrida por viagens com no máximo 2 passageiros é:"
   ]
  },
  {
   "cell_type": "code",
   "execution_count": 23,
   "metadata": {},
   "outputs": [
    {
     "name": "stdout",
     "output_type": "stream",
     "text": [
      "+------------------+\n",
      "|mean_trip_distance|\n",
      "+------------------+\n",
      "|             2.663|\n",
      "+------------------+\n",
      "\n"
     ]
    }
   ],
   "source": [
    "df_question_1 = spark.sql(\"\"\"\n",
    "      SELECT ROUND(AVG(trip_distance),3) mean_trip_distance\n",
    "        FROM trip t\n",
    "       WHERE t.passenger_count <= 2\n",
    "\"\"\")\n",
    "df_question_1.show()"
   ]
  },
  {
   "cell_type": "markdown",
   "metadata": {},
   "source": [
    "<b>Questão 2</b>: Quais os 3 maiores vendors em quantidade total de dinheiro arrecadado?\n",
    "\n",
    "O resultado em quantidade de dinheiro (valores em Milhões U$) arrecado pelos 3 maiores vendors são:"
   ]
  },
  {
   "cell_type": "code",
   "execution_count": 24,
   "metadata": {},
   "outputs": [
    {
     "name": "stdout",
     "output_type": "stream",
     "text": [
      "+---------------------------------+---------+------+\n",
      "|name                             |vendor_id|amount|\n",
      "+---------------------------------+---------+------+\n",
      "|Creative Mobile Technologies, LLC|CMT      |19.549|\n",
      "|VeriFone Inc                     |VTS      |19.043|\n",
      "|Dependable Driver Service, Inc   |DDS      |2.715 |\n",
      "+---------------------------------+---------+------+\n",
      "\n"
     ]
    }
   ],
   "source": [
    "df_question_2 = spark.sql(\"\"\"\n",
    "    SELECT v.name, t.vendor_id, ROUND(SUM(total_amount)/1E6,3) amount \n",
    "      FROM trip t LEFT JOIN vendor v ON (t.vendor_id = v.vendor_id)\n",
    "  GROUP BY t.vendor_id, v.name\n",
    "  ORDER BY SUM(total_amount) DESC\n",
    "     LIMIT 3\n",
    "\"\"\")\n",
    "df_question_2.show(truncate = False)"
   ]
  },
  {
   "cell_type": "markdown",
   "metadata": {},
   "source": [
    "<b>Questão 3</b>: Um histograma da distribuição mensal, nos 4 anos, de corridas pagas em dinheiro:"
   ]
  },
  {
   "cell_type": "code",
   "execution_count": 25,
   "metadata": {},
   "outputs": [
    {
     "name": "stdout",
     "output_type": "stream",
     "text": [
      "+--------+-----------------+----------+-------+-----+-----+\n",
      "|qty_trip|           amount|month_year| my_idx|month|m_idx|\n",
      "+--------+-----------------+----------+-------+-----+-----+\n",
      "|   66980|628682.9800000001|  Jan-2009|2009-01|  Jan|   01|\n",
      "|   66817|626358.3499999989|  Feb-2009|2009-02|  Feb|   02|\n",
      "|   73944|696470.6700000003|  Mar-2009|2009-03|  Mar|   03|\n",
      "|   71139|667427.1799999996|  Apr-2009|2009-04|  Apr|   04|\n",
      "|   74140|698284.0399999991|  May-2009|2009-05|  May|   05|\n",
      "|   71365|669824.8000000002|  Jun-2009|2009-06|  Jun|   06|\n",
      "|   74082|697670.9999999999|  Jul-2009|2009-07|  Jul|   07|\n",
      "|   73995|696738.1899999992|  Aug-2009|2009-08|  Aug|   08|\n",
      "|   71531|671673.8400000002|  Sep-2009|2009-09|  Sep|   09|\n",
      "|   73911|694842.2299999995|  Oct-2009|2009-10|  Oct|   10|\n",
      "|   71413|670084.0199999992|  Nov-2009|2009-11|  Nov|   11|\n",
      "|   21396|202496.8000000001|  Dec-2009|2009-12|  Dec|   12|\n",
      "|   66371|624254.5599999995|  Jan-2010|2010-01|  Jan|   01|\n",
      "|   66944|626000.1800000007|  Feb-2010|2010-02|  Feb|   02|\n",
      "|   73614|694932.4699999994|  Mar-2010|2010-03|  Mar|   03|\n",
      "|   71089|671523.9499999996|  Apr-2010|2010-04|  Apr|   04|\n",
      "|   73632|690341.7399999986|  May-2010|2010-05|  May|   05|\n",
      "|   70999|670215.1800000002|  Jun-2010|2010-06|  Jun|   06|\n",
      "|   73456| 690566.389999998|  Jul-2010|2010-07|  Jul|   07|\n",
      "|   73363|688455.1399999998|  Aug-2010|2010-08|  Aug|   08|\n",
      "+--------+-----------------+----------+-------+-----+-----+\n",
      "only showing top 20 rows\n",
      "\n"
     ]
    }
   ],
   "source": [
    "df_question_3 = spark.sql(\"\"\"\n",
    "    WITH Dist as (--\n",
    "        SELECT date_format(t.dropoff_datetime,'MMM-yyyy') month_year,\n",
    "               date_format(t.dropoff_datetime,'yyyy-MM') my_idx,\n",
    "               date_format(t.dropoff_datetime,'MMM') month,\n",
    "               date_format(t.dropoff_datetime,'MM') m_idx, \n",
    "               p.payment_lookup, t.total_amount--, t.*\n",
    "          FROM trip t JOIN payment p ON (t.payment_type = p.payment_type)\n",
    "         WHERE p.payment_lookup = 'Cash' --\n",
    "    )\n",
    "    SELECT count(month) qty_trip, sum(total_amount) amount, month_year, my_idx, month, m_idx\n",
    "      FROM Dist d\n",
    "  GROUP BY month_year, my_idx, month, m_idx\n",
    "  ORDER BY my_idx\n",
    "\"\"\")\n",
    "df_question_3.show()"
   ]
  },
  {
   "cell_type": "code",
   "execution_count": 26,
   "metadata": {},
   "outputs": [],
   "source": [
    "dados = df_question_3.toPandas()"
   ]
  },
  {
   "cell_type": "code",
   "execution_count": 27,
   "metadata": {},
   "outputs": [
    {
     "data": {
      "text/plain": [
       "<matplotlib.axes._subplots.AxesSubplot at 0x23fcb75f208>"
      ]
     },
     "execution_count": 27,
     "metadata": {},
     "output_type": "execute_result"
    },
    {
     "data": {
      "image/png": "[encoded data removed]",
      "text/plain": [
       "<Figure size 1440x432 with 1 Axes>"
      ]
     },
     "metadata": {
      "needs_background": "light"
     },
     "output_type": "display_data"
    }
   ],
   "source": [
    "ax = sns.distplot(dados.qty_trip)\n",
    "ax.figure.set_size_inches(20, 6)\n",
    "ax.set_xlabel('Ganho Medio', fontsize=16)\n",
    "ax.set_ylabel('Densidade', fontsize=16)\n",
    "ax.set_title(\"Distribuiçao de Media de corridas pagas em Dinheiro entre 2009 e 2012\", fontsize=20)\n",
    "ax"
   ]
  },
  {
   "cell_type": "code",
   "execution_count": 28,
   "metadata": {},
   "outputs": [
    {
     "data": {
      "image/png": "[encoded data removed]",
      "text/plain": [
       "<Figure size 1440x432 with 2 Axes>"
      ]
     },
     "metadata": {
      "needs_background": "light"
     },
     "output_type": "display_data"
    }
   ],
   "source": [
    "fig, ax1 = plt.subplots()\n",
    "color = 'red'\n",
    "ax1.set_title(\"Historico mensal de corridas pagas em dinheiro entre 2009 e 2012.\", fontsize=20)\n",
    "ax1.set_xlabel('Meses')\n",
    "ax1.figure.set_size_inches(20, 6)\n",
    "plt.xticks(rotation='vertical')\n",
    "\n",
    "# Eixo primario\n",
    "ax1.set_ylabel('Quantidade em milhares de corridas', color=color)\n",
    "ax1.bar(dados.month_year, dados.qty_trip/1E3, color=color)\n",
    "ax1.tick_params(axis='y', labelcolor=color)\n",
    "\n",
    "# Eixo secundario\n",
    "ax2 = ax1.twinx() \n",
    "color = 'black'\n",
    "ax2.set_ylabel('Ganhos em milhares de U$', color=color) \n",
    "ax2.plot(dados.month_year, dados.amount/1E3, color=color, linewidth=3)\n",
    "ax2.tick_params(axis='y', labelcolor=color)\n",
    "\n",
    "fig.tight_layout() \n"
   ]
  },
  {
   "cell_type": "markdown",
   "metadata": {},
   "source": [
    "<b>Questão 4</b>: Um gráfico de série temporal contando a quantidade de gorjetas de cada dia, nos\n",
    "últimos 3 meses de 2012:"
   ]
  },
  {
   "cell_type": "code",
   "execution_count": 29,
   "metadata": {},
   "outputs": [
    {
     "name": "stdout",
     "output_type": "stream",
     "text": [
      "+-----------+----------+----+\n",
      "|month_year |my_idx    |tips|\n",
      "+-----------+----------+----+\n",
      "|01-Aug-2012|2012-08-01|590 |\n",
      "|02-Aug-2012|2012-08-02|617 |\n",
      "|03-Aug-2012|2012-08-03|600 |\n",
      "|04-Aug-2012|2012-08-04|602 |\n",
      "|05-Aug-2012|2012-08-05|556 |\n",
      "+-----------+----------+----+\n",
      "only showing top 5 rows\n",
      "\n"
     ]
    }
   ],
   "source": [
    "df_question_4 = spark.sql(\"\"\"\n",
    "WITH\n",
    "last_month AS (--\n",
    "     SELECT date_add(add_months(to_date(date_format(MAX(dropoff_datetime),'yyyy-MM') || '-01','yyyy-MM-dd'),1),-1) last_date,\n",
    "            MAX(dropoff_datetime) max_date,\n",
    "            add_months(to_date(date_format(MAX(dropoff_datetime),'yyyy-MM') || '-01','yyyy-MM-dd'),-2) first_date\n",
    "       FROM trip --\n",
    "),\n",
    "temp AS (--\n",
    "     SELECT dropoff_datetime, \n",
    "            date_format(t.dropoff_datetime,'dd-MMM-yyyy') month_year,\n",
    "            date_format(t.dropoff_datetime,'yyyy-MM-dd') my_idx, tip_amount\n",
    "       FROM trip t, last_month lm\n",
    "      WHERE dropoff_datetime between lm.first_date and lm.last_date\n",
    "        AND tip_amount > 0 -- corridas que tiveram gorjetas\n",
    "      )\n",
    "      SELECT month_year, my_idx, COUNT(tip_amount) tips from temp\n",
    "       GROUP BY month_year, my_idx\n",
    "       ORDER BY my_idx   \n",
    "\"\"\")\n",
    "df_question_4.show(5, truncate = False)"
   ]
  },
  {
   "cell_type": "code",
   "execution_count": 30,
   "metadata": {},
   "outputs": [
    {
     "data": {
      "text/html": [
       "<div>\n",
       "<style scoped>\n",
       "    .dataframe tbody tr th:only-of-type {\n",
       "        vertical-align: middle;\n",
       "    }\n",
       "\n",
       "    .dataframe tbody tr th {\n",
       "        vertical-align: top;\n",
       "    }\n",
       "\n",
       "    .dataframe thead th {\n",
       "        text-align: right;\n",
       "    }\n",
       "</style>\n",
       "<table border=\"1\" class=\"dataframe\">\n",
       "  <thead>\n",
       "    <tr style=\"text-align: right;\">\n",
       "      <th></th>\n",
       "      <th>month_year</th>\n",
       "      <th>my_idx</th>\n",
       "      <th>tips</th>\n",
       "    </tr>\n",
       "  </thead>\n",
       "  <tbody>\n",
       "    <tr>\n",
       "      <th>0</th>\n",
       "      <td>01-Aug-2012</td>\n",
       "      <td>2012-08-01</td>\n",
       "      <td>590</td>\n",
       "    </tr>\n",
       "    <tr>\n",
       "      <th>1</th>\n",
       "      <td>02-Aug-2012</td>\n",
       "      <td>2012-08-02</td>\n",
       "      <td>617</td>\n",
       "    </tr>\n",
       "    <tr>\n",
       "      <th>2</th>\n",
       "      <td>03-Aug-2012</td>\n",
       "      <td>2012-08-03</td>\n",
       "      <td>600</td>\n",
       "    </tr>\n",
       "    <tr>\n",
       "      <th>3</th>\n",
       "      <td>04-Aug-2012</td>\n",
       "      <td>2012-08-04</td>\n",
       "      <td>602</td>\n",
       "    </tr>\n",
       "    <tr>\n",
       "      <th>4</th>\n",
       "      <td>05-Aug-2012</td>\n",
       "      <td>2012-08-05</td>\n",
       "      <td>556</td>\n",
       "    </tr>\n",
       "  </tbody>\n",
       "</table>\n",
       "</div>"
      ],
      "text/plain": [
       "    month_year      my_idx  tips\n",
       "0  01-Aug-2012  2012-08-01   590\n",
       "1  02-Aug-2012  2012-08-02   617\n",
       "2  03-Aug-2012  2012-08-03   600\n",
       "3  04-Aug-2012  2012-08-04   602\n",
       "4  05-Aug-2012  2012-08-05   556"
      ]
     },
     "execution_count": 30,
     "metadata": {},
     "output_type": "execute_result"
    }
   ],
   "source": [
    "dados = df_question_4.toPandas()\n",
    "dados.head()"
   ]
  },
  {
   "cell_type": "code",
   "execution_count": 31,
   "metadata": {},
   "outputs": [
    {
     "data": {
      "text/plain": [
       "[<matplotlib.lines.Line2D at 0x23fcf4230c8>]"
      ]
     },
     "execution_count": 31,
     "metadata": {},
     "output_type": "execute_result"
    },
    {
     "data": {
      "image/png": "[encoded data removed]",
      "text/plain": [
       "<Figure size 1440x432 with 1 Axes>"
      ]
     },
     "metadata": {
      "needs_background": "light"
     },
     "output_type": "display_data"
    }
   ],
   "source": [
    "fig, ax1 = plt.subplots()\n",
    "\n",
    "ax1.set_title(\"Serie temporal da quantidade de tips nos últimos 3 meses de 2012.\", fontsize=20)\n",
    "ax1.set_xlabel('3 últimos Meses')\n",
    "ax1.figure.set_size_inches(20, 6)\n",
    "plt.xticks(rotation='vertical')\n",
    "# Eixo primario\n",
    "ax1.set_ylabel('Quantidade de Gorjetas')\n",
    "ax1.plot(dados.month_year, dados.tips ) "
   ]
  },
  {
   "cell_type": "markdown",
   "metadata": {},
   "source": [
    "## Questões do Quesito Bônus"
   ]
  },
  {
   "cell_type": "markdown",
   "metadata": {},
   "source": [
    "<b>Questão 5</b>: Qual o tempo médio das corridas nos dias de sábado e domingo?\n",
    "\n",
    "O tempo médio das corridas no fim de semana é:"
   ]
  },
  {
   "cell_type": "code",
   "execution_count": 32,
   "metadata": {},
   "outputs": [
    {
     "name": "stdout",
     "output_type": "stream",
     "text": [
      "+-----------------+-------------+--------+\n",
      "|delta_seconds    |delta_minutes|day_week|\n",
      "+-----------------+-------------+--------+\n",
      "|524.8550007748225|8.75         |Saturday|\n",
      "|524.7120638128082|8.75         |Sunday  |\n",
      "+-----------------+-------------+--------+\n",
      "\n"
     ]
    }
   ],
   "source": [
    "df_question_5 = spark.sql(\"\"\"\n",
    "WITH calc as (--\n",
    "      SELECT dayofweek(t.dropoff_datetime) day_week_num, \n",
    "             date_format(t.dropoff_datetime, 'EEEE') day_week, \n",
    "             dropoff_datetime, pickup_datetime,\n",
    "             cast(dropoff_datetime as long) - cast(pickup_datetime as long) delta,\n",
    "             t.trip_distance\n",
    "        FROM trip t\n",
    "        WHERE dayofweek(t.dropoff_datetime) in (1,7) --\n",
    ")\n",
    "--SELECT c.*, round(delta/60, 2) delta_minutes, round(delta/60/60, 2) delta_hour FROM calc c\n",
    "    SELECT avg(delta) delta_seconds, \n",
    "           round(avg(delta/60), 2) delta_minutes, day_week\n",
    "      FROM calc\n",
    "  GROUP BY day_week\n",
    "\n",
    "\"\"\")\n",
    "df_question_5.show(5, False)"
   ]
  },
  {
   "cell_type": "markdown",
   "metadata": {},
   "source": [
    "<b>Questão 6</b>: Fazer uma visualização em mapa com latitude e longitude de pickups and dropoffs no ano\n",
    "de 2010."
   ]
  },
  {
   "cell_type": "code",
   "execution_count": 33,
   "metadata": {},
   "outputs": [
    {
     "name": "stdout",
     "output_type": "stream",
     "text": [
      "+----------------+-----------------+---------------+----------------+\n",
      "|dropoff_latitude|dropoff_longitude|pickup_latitude|pickup_longitude|\n",
      "+----------------+-----------------+---------------+----------------+\n",
      "|40.74795        |-73.994712       |40.74295       |-74.004114      |\n",
      "|40.792385       |-73.940449       |40.747784      |-73.996506      |\n",
      "|40.768108       |-73.944535       |40.75207       |-73.95134       |\n",
      "|40.721812       |-73.958122       |40.729128      |-74.001117      |\n",
      "|40.776075       |-73.979757       |40.756873      |-73.9766        |\n",
      "+----------------+-----------------+---------------+----------------+\n",
      "only showing top 5 rows\n",
      "\n"
     ]
    }
   ],
   "source": [
    "df_question_6 = spark.sql(\"\"\"\n",
    "      SELECT dropoff_latitude, dropoff_longitude, pickup_latitude, pickup_longitude\n",
    "        FROM trip t\n",
    "       WHERE date_format(t.dropoff_datetime,'yyyy') = 2010\n",
    "\"\"\")\n",
    "df_question_6.show(5, False)"
   ]
  },
  {
   "cell_type": "markdown",
   "metadata": {},
   "source": [
    "Encontrando os extremos latitude e longitude. \n",
    "\n",
    "Verificado a existencia de <b>Outliers</b> para Latitude e Longitude."
   ]
  },
  {
   "cell_type": "code",
   "execution_count": 34,
   "metadata": {},
   "outputs": [
    {
     "name": "stdout",
     "output_type": "stream",
     "text": [
      "+---------+----------+\n",
      "|latitude |longitude |\n",
      "+---------+----------+\n",
      "|40.759317|-73.985112|\n",
      "|40.767015|-73.953683|\n",
      "|40.736537|-73.994712|\n",
      "|40.759755|-73.983478|\n",
      "|40.779957|-73.982774|\n",
      "+---------+----------+\n",
      "only showing top 5 rows\n",
      "\n"
     ]
    }
   ],
   "source": [
    "df_question_6a = spark.sql(\"\"\"\n",
    "WITH map as (--\n",
    "      SELECT dropoff_latitude latitude, dropoff_longitude longitude\n",
    "        FROM trip t\n",
    "       WHERE date_format(t.dropoff_datetime,'yyyy') = 2010\n",
    "    UNION\n",
    "     SELECT pickup_latitude, pickup_longitude\n",
    "        FROM trip t\n",
    "       WHERE date_format(t.dropoff_datetime,'yyyy') = 2010\n",
    ")\n",
    "Select *\n",
    "       --min(latitude) min_latitude, max(latitude) max_latitude, avg(latitude) avg_latitude\n",
    "       --min(longitude) min_longitude, max(longitude) max_longitude, avg(longitude) avg_longitude\n",
    "       from map m\n",
    "\"\"\")\n",
    "df_question_6a.show(5, False)"
   ]
  },
  {
   "cell_type": "markdown",
   "metadata": {},
   "source": [
    "Conversão para Pandas e realizado uma análise das Estatísticas Descritivas para identificação dos <b>Outliers</b>. \n",
    "\n",
    "Observa-se que os valores mínimo e máximo de latitude e longitude estão bem distantes dos Quartis. "
   ]
  },
  {
   "cell_type": "code",
   "execution_count": 35,
   "metadata": {},
   "outputs": [
    {
     "data": {
      "text/html": [
       "<div>\n",
       "<style scoped>\n",
       "    .dataframe tbody tr th:only-of-type {\n",
       "        vertical-align: middle;\n",
       "    }\n",
       "\n",
       "    .dataframe tbody tr th {\n",
       "        vertical-align: top;\n",
       "    }\n",
       "\n",
       "    .dataframe thead th {\n",
       "        text-align: right;\n",
       "    }\n",
       "</style>\n",
       "<table border=\"1\" class=\"dataframe\">\n",
       "  <thead>\n",
       "    <tr style=\"text-align: right;\">\n",
       "      <th></th>\n",
       "      <th>latitude</th>\n",
       "      <th>longitude</th>\n",
       "    </tr>\n",
       "  </thead>\n",
       "  <tbody>\n",
       "    <tr>\n",
       "      <th>count</th>\n",
       "      <td>1932099.000</td>\n",
       "      <td>1932099.000</td>\n",
       "    </tr>\n",
       "    <tr>\n",
       "      <th>mean</th>\n",
       "      <td>40.753</td>\n",
       "      <td>-73.974</td>\n",
       "    </tr>\n",
       "    <tr>\n",
       "      <th>std</th>\n",
       "      <td>0.135</td>\n",
       "      <td>0.223</td>\n",
       "    </tr>\n",
       "    <tr>\n",
       "      <th>min</th>\n",
       "      <td>-0.015</td>\n",
       "      <td>-84.878</td>\n",
       "    </tr>\n",
       "    <tr>\n",
       "      <th>25%</th>\n",
       "      <td>40.737</td>\n",
       "      <td>-73.991</td>\n",
       "    </tr>\n",
       "    <tr>\n",
       "      <th>50%</th>\n",
       "      <td>40.755</td>\n",
       "      <td>-73.981</td>\n",
       "    </tr>\n",
       "    <tr>\n",
       "      <th>75%</th>\n",
       "      <td>40.769</td>\n",
       "      <td>-73.967</td>\n",
       "    </tr>\n",
       "    <tr>\n",
       "      <th>max</th>\n",
       "      <td>47.936</td>\n",
       "      <td>0.009</td>\n",
       "    </tr>\n",
       "  </tbody>\n",
       "</table>\n",
       "</div>"
      ],
      "text/plain": [
       "          latitude    longitude\n",
       "count  1932099.000  1932099.000\n",
       "mean        40.753      -73.974\n",
       "std          0.135        0.223\n",
       "min         -0.015      -84.878\n",
       "25%         40.737      -73.991\n",
       "50%         40.755      -73.981\n",
       "75%         40.769      -73.967\n",
       "max         47.936        0.009"
      ]
     },
     "execution_count": 35,
     "metadata": {},
     "output_type": "execute_result"
    }
   ],
   "source": [
    "dados = df_question_6a.toPandas()\n",
    "dados.describe().round(3)"
   ]
  },
  {
   "cell_type": "markdown",
   "metadata": {},
   "source": [
    "Definindo o limite inferior e superior para Latitude."
   ]
  },
  {
   "cell_type": "code",
   "execution_count": 36,
   "metadata": {},
   "outputs": [
    {
     "name": "stdout",
     "output_type": "stream",
     "text": [
      "40.68909299999999 40.817037000000006 40.737072 40.769058\n"
     ]
    }
   ],
   "source": [
    "Q1 = dados['latitude'].quantile(.25)\n",
    "Q3 = dados['latitude'].quantile(.75)\n",
    "IIQ = Q3 - Q1\n",
    "limite_inferior_latitude = Q1 - 1.5 * IIQ\n",
    "limite_superior_latitude = Q3 + 1.5 * IIQ\n",
    "print(limite_inferior_latitude, limite_superior_latitude, Q1, Q3)"
   ]
  },
  {
   "cell_type": "markdown",
   "metadata": {},
   "source": [
    "Definindo o limite inferior e superior para Longitude."
   ]
  },
  {
   "cell_type": "code",
   "execution_count": 37,
   "metadata": {},
   "outputs": [
    {
     "name": "stdout",
     "output_type": "stream",
     "text": [
      "-74.02756500000001 -73.93020499999997 -73.991055 -73.966715\n"
     ]
    }
   ],
   "source": [
    "Q1 = dados['longitude'].quantile(.25)\n",
    "Q3 = dados['longitude'].quantile(.75)\n",
    "IIQ = Q3 - Q1\n",
    "limite_inferior_longitude = Q1 - 1.5 * IIQ\n",
    "limite_superior_longitude = Q3 + 1.5 * IIQ\n",
    "print(limite_inferior_longitude, limite_superior_longitude, Q1, Q3)"
   ]
  },
  {
   "cell_type": "markdown",
   "metadata": {},
   "source": [
    "Aplicando a limpeza do DataSet pelos limites calculados de Latitude e Longetude."
   ]
  },
  {
   "cell_type": "code",
   "execution_count": 38,
   "metadata": {},
   "outputs": [],
   "source": [
    "selecao = (dados['latitude'] >= limite_inferior_latitude) & (dados['latitude']<= limite_superior_latitude) & \\\n",
    "          (dados['longitude'] >= limite_inferior_longitude) & (dados['longitude']<= limite_superior_longitude) \n",
    "dados_new = dados[selecao]"
   ]
  },
  {
   "cell_type": "markdown",
   "metadata": {},
   "source": [
    "Este é um check para evidenciar que o novo DataSet é menor que o DataSet original."
   ]
  },
  {
   "cell_type": "code",
   "execution_count": 39,
   "metadata": {},
   "outputs": [
    {
     "name": "stdout",
     "output_type": "stream",
     "text": [
      "(1932099, 2) (1795890, 2)\n"
     ]
    }
   ],
   "source": [
    "print(dados.shape, dados_new.shape)"
   ]
  },
  {
   "cell_type": "markdown",
   "metadata": {},
   "source": [
    "Observa-se que no novo Dataset não há inconsistências."
   ]
  },
  {
   "cell_type": "code",
   "execution_count": 40,
   "metadata": {},
   "outputs": [
    {
     "data": {
      "text/html": [
       "<div>\n",
       "<style scoped>\n",
       "    .dataframe tbody tr th:only-of-type {\n",
       "        vertical-align: middle;\n",
       "    }\n",
       "\n",
       "    .dataframe tbody tr th {\n",
       "        vertical-align: top;\n",
       "    }\n",
       "\n",
       "    .dataframe thead th {\n",
       "        text-align: right;\n",
       "    }\n",
       "</style>\n",
       "<table border=\"1\" class=\"dataframe\">\n",
       "  <thead>\n",
       "    <tr style=\"text-align: right;\">\n",
       "      <th></th>\n",
       "      <th>latitude</th>\n",
       "      <th>longitude</th>\n",
       "    </tr>\n",
       "  </thead>\n",
       "  <tbody>\n",
       "    <tr>\n",
       "      <th>count</th>\n",
       "      <td>1795890.000</td>\n",
       "      <td>1795890.000</td>\n",
       "    </tr>\n",
       "    <tr>\n",
       "      <th>mean</th>\n",
       "      <td>40.754</td>\n",
       "      <td>-73.980</td>\n",
       "    </tr>\n",
       "    <tr>\n",
       "      <th>std</th>\n",
       "      <td>0.022</td>\n",
       "      <td>0.016</td>\n",
       "    </tr>\n",
       "    <tr>\n",
       "      <th>min</th>\n",
       "      <td>40.689</td>\n",
       "      <td>-74.028</td>\n",
       "    </tr>\n",
       "    <tr>\n",
       "      <th>25%</th>\n",
       "      <td>40.738</td>\n",
       "      <td>-73.991</td>\n",
       "    </tr>\n",
       "    <tr>\n",
       "      <th>50%</th>\n",
       "      <td>40.755</td>\n",
       "      <td>-73.982</td>\n",
       "    </tr>\n",
       "    <tr>\n",
       "      <th>75%</th>\n",
       "      <td>40.769</td>\n",
       "      <td>-73.970</td>\n",
       "    </tr>\n",
       "    <tr>\n",
       "      <th>max</th>\n",
       "      <td>40.817</td>\n",
       "      <td>-73.930</td>\n",
       "    </tr>\n",
       "  </tbody>\n",
       "</table>\n",
       "</div>"
      ],
      "text/plain": [
       "          latitude    longitude\n",
       "count  1795890.000  1795890.000\n",
       "mean        40.754      -73.980\n",
       "std          0.022        0.016\n",
       "min         40.689      -74.028\n",
       "25%         40.738      -73.991\n",
       "50%         40.755      -73.982\n",
       "75%         40.769      -73.970\n",
       "max         40.817      -73.930"
      ]
     },
     "execution_count": 40,
     "metadata": {},
     "output_type": "execute_result"
    }
   ],
   "source": [
    "dados_new.describe().round(3)"
   ]
  },
  {
   "cell_type": "markdown",
   "metadata": {},
   "source": [
    "Seguindo o tutorial https://towardsdatascience.com/easy-steps-to-plot-geographic-data-on-a-map-python-11217859a2db."
   ]
  },
  {
   "cell_type": "code",
   "execution_count": 41,
   "metadata": {},
   "outputs": [
    {
     "name": "stdout",
     "output_type": "stream",
     "text": [
      "Latitude: 40.689093 e 40.817036\n",
      "Longitude: -74.027507 e -73.930205\n"
     ]
    }
   ],
   "source": [
    "print('Latitude:', dados_new['latitude'].min(), 'e', dados_new['latitude'].max())\n",
    "print('Longitude:', dados_new['longitude'].min(), 'e', dados_new['longitude'].max())"
   ]
  },
  {
   "cell_type": "code",
   "execution_count": null,
   "metadata": {},
   "outputs": [],
   "source": [
    "try:\n",
    "    !pip install ipyleaflet --quiet\n",
    "except:\n",
    "    print(\"Running throw py file.\")"
   ]
  },
  {
   "cell_type": "code",
   "execution_count": null,
   "metadata": {},
   "outputs": [],
   "source": [
    "try:\n",
    "    #!conda install geopandas\n",
    "    !pip uninstall geopandas --quiet\n",
    "    #!pip install git+git://github.com/geopandas/geopandas.git\n",
    "except:\n",
    "    print(\"Running throw py file.\")"
   ]
  },
  {
   "cell_type": "code",
   "execution_count": 48,
   "metadata": {},
   "outputs": [
    {
     "ename": "ModuleNotFoundError",
     "evalue": "No module named 'geopandas'",
     "output_type": "error",
     "traceback": [
      "\u001b[1;31m---------------------------------------------------------------------------\u001b[0m",
      "\u001b[1;31mModuleNotFoundError\u001b[0m                       Traceback (most recent call last)",
      "\u001b[1;32m<ipython-input-48-0eb94ed9b4e9>\u001b[0m in \u001b[0;36m<module>\u001b[1;34m()\u001b[0m\n\u001b[0;32m      1\u001b[0m \u001b[1;32mimport\u001b[0m \u001b[0mdescartes\u001b[0m\u001b[1;33m\u001b[0m\u001b[1;33m\u001b[0m\u001b[0m\n\u001b[1;32m----> 2\u001b[1;33m \u001b[1;32mimport\u001b[0m \u001b[0mgeopandas\u001b[0m \u001b[1;32mas\u001b[0m \u001b[0mgpd\u001b[0m\u001b[1;33m\u001b[0m\u001b[1;33m\u001b[0m\u001b[0m\n\u001b[0m\u001b[0;32m      3\u001b[0m \u001b[1;33m\u001b[0m\u001b[0m\n\u001b[0;32m      4\u001b[0m \u001b[1;32mfrom\u001b[0m \u001b[0mshapely\u001b[0m\u001b[1;33m.\u001b[0m\u001b[0mgeometry\u001b[0m \u001b[1;32mimport\u001b[0m \u001b[0mPoint\u001b[0m\u001b[1;33m,\u001b[0m \u001b[0mPolygon\u001b[0m\u001b[1;33m\u001b[0m\u001b[1;33m\u001b[0m\u001b[0m\n",
      "\u001b[1;31mModuleNotFoundError\u001b[0m: No module named 'geopandas'"
     ]
    }
   ],
   "source": [
    "import descartes\n",
    "import geopandas as gpd\n",
    "\n",
    "from shapely.geometry import Point, Polygon"
   ]
  },
  {
   "cell_type": "code",
   "execution_count": null,
   "metadata": {},
   "outputs": [],
   "source": []
  },
  {
   "cell_type": "code",
   "execution_count": null,
   "metadata": {},
   "outputs": [],
   "source": []
  },
  {
   "cell_type": "code",
   "execution_count": null,
   "metadata": {},
   "outputs": [],
   "source": []
  },
  {
   "cell_type": "code",
   "execution_count": null,
   "metadata": {},
   "outputs": [],
   "source": []
  },
  {
   "cell_type": "code",
   "execution_count": null,
   "metadata": {},
   "outputs": [],
   "source": []
  },
  {
   "cell_type": "code",
   "execution_count": null,
   "metadata": {},
   "outputs": [],
   "source": []
  },
  {
   "cell_type": "code",
   "execution_count": null,
   "metadata": {},
   "outputs": [],
   "source": []
  }
 ],
 "metadata": {
  "kernelspec": {
   "display_name": "Python 3.7.4 64-bit",
   "language": "python",
   "name": "python37464bit533174c592bc499980d49eafc4a27dc2"
  },
  "language_info": {
   "codemirror_mode": {
    "name": "ipython",
    "version": 3
   },
   "file_extension": ".py",
   "mimetype": "text/x-python",
   "name": "python",
   "nbconvert_exporter": "python",
   "pygments_lexer": "ipython3",
   "version": "3.7.4"
  }
 },
 "nbformat": 4,
 "nbformat_minor": 2
}
